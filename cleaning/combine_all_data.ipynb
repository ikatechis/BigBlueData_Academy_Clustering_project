{
 "cells": [
  {
   "cell_type": "code",
   "execution_count": null,
   "id": "ec2f7421-7e43-47fd-ba0c-ff6308e2d889",
   "metadata": {},
   "outputs": [],
   "source": [
    "import pandas as pd\n",
    "import glob\n",
    "import numpy as np"
   ]
  },
  {
   "cell_type": "code",
   "execution_count": null,
   "id": "df5cb6c3-417b-4e40-a7aa-827c4c8ef1cb",
   "metadata": {},
   "outputs": [],
   "source": [
    "df = pd.read_parquet('../data/all_data.parquet')"
   ]
  },
  {
   "cell_type": "code",
   "execution_count": null,
   "id": "6581d528-436f-4498-b83b-2a39eda6c14d",
   "metadata": {},
   "outputs": [],
   "source": [
    "df.to_csv('../data/comics_data.csv')"
   ]
  },
  {
   "cell_type": "code",
   "execution_count": null,
   "id": "18ace4e1-03d3-4772-8799-16061c002389",
   "metadata": {},
   "outputs": [],
   "source": [
    "pd.options.display.max_colwidth = 100\n",
    "pd.options.display.max_rows = 500\n",
    "pd.options.display.max_columns = 100"
   ]
  },
  {
   "cell_type": "code",
   "execution_count": null,
   "id": "587b719f-f9d0-470b-8fb6-0eb21ea36375",
   "metadata": {},
   "outputs": [],
   "source": [
    "# combine all partial dataframes\n",
    "\n",
    "\n",
    "path = r'./single_issue_data' # use your path\n",
    "all_files = glob.glob(path + \"/*.csv\")\n",
    "\n",
    "li = []\n",
    "\n",
    "for filename in all_files:\n",
    "    df = pd.read_csv(filename, index_col=0, header=0)\n",
    "    li.append(df)\n",
    "\n",
    "df = pd.concat(li, axis=0, ignore_index=True).reset_index(drop=True)"
   ]
  },
  {
   "cell_type": "code",
   "execution_count": null,
   "id": "c57965f8-10f4-4564-9938-15d8d6946ffd",
   "metadata": {},
   "outputs": [],
   "source": [
    "df.shape"
   ]
  },
  {
   "cell_type": "code",
   "execution_count": null,
   "id": "a58127e6-f850-4de9-a1a4-96d7bfb7d9b1",
   "metadata": {},
   "outputs": [],
   "source": [
    "df.to_csv('single_issues_data.csv')"
   ]
  },
  {
   "cell_type": "code",
   "execution_count": null,
   "id": "17ef5b9f-28fe-493b-b301-0b87035988f9",
   "metadata": {},
   "outputs": [],
   "source": [
    "df.head()"
   ]
  },
  {
   "cell_type": "code",
   "execution_count": null,
   "id": "45c0ec6a-75b7-4bb0-a436-c18f6232d315",
   "metadata": {},
   "outputs": [],
   "source": [
    "df_issue_list = pd.read_csv('all_issues_data.csv')"
   ]
  },
  {
   "cell_type": "code",
   "execution_count": null,
   "id": "6f99ad53-b84b-42ab-9d52-05bbce703f8d",
   "metadata": {},
   "outputs": [],
   "source": [
    "df_issue_list.head(3)"
   ]
  },
  {
   "cell_type": "code",
   "execution_count": null,
   "id": "b3249bce-c634-4c47-b84a-11b551d682d5",
   "metadata": {},
   "outputs": [],
   "source": [
    "df_issue_list.shape"
   ]
  },
  {
   "cell_type": "code",
   "execution_count": null,
   "id": "8585e8bc-facc-44fc-8a21-901555b63cfe",
   "metadata": {},
   "outputs": [],
   "source": [
    "df_issue_list.info()"
   ]
  },
  {
   "cell_type": "code",
   "execution_count": null,
   "id": "06a60346-59bb-4176-a8ce-1a1bc8950c92",
   "metadata": {},
   "outputs": [],
   "source": [
    "df_pub = pd.read_csv('publishers_data.csv', index_col=0)"
   ]
  },
  {
   "cell_type": "code",
   "execution_count": null,
   "id": "1751bcfb-6634-40ea-8ccb-1d35e39dfba4",
   "metadata": {},
   "outputs": [],
   "source": [
    "df_pub.head(3)"
   ]
  },
  {
   "cell_type": "code",
   "execution_count": null,
   "id": "64671305-58a8-4c0b-b9a0-94f7a5fcac74",
   "metadata": {},
   "outputs": [],
   "source": [
    "df_title = pd.read_csv('titles_list_data.csv', index_col=0)"
   ]
  },
  {
   "cell_type": "code",
   "execution_count": null,
   "id": "4f7ead74-1e17-464f-abf7-510c49e86763",
   "metadata": {},
   "outputs": [],
   "source": [
    "df_title.shape"
   ]
  },
  {
   "cell_type": "code",
   "execution_count": null,
   "id": "b5face29-5f32-4935-ad6c-f0e8f8ebaf7f",
   "metadata": {},
   "outputs": [],
   "source": [
    "df_title.head()"
   ]
  },
  {
   "cell_type": "code",
   "execution_count": null,
   "id": "7a221b47-b297-4019-b718-2054aae6e796",
   "metadata": {},
   "outputs": [],
   "source": [
    "df"
   ]
  },
  {
   "cell_type": "code",
   "execution_count": null,
   "id": "47e8cac7-bf22-446d-896d-632f59465612",
   "metadata": {},
   "outputs": [],
   "source": [
    "issue_list_to_merge = df_issue_list[['pub_id', 'issue_link']]"
   ]
  },
  {
   "cell_type": "code",
   "execution_count": null,
   "id": "1018026c-21ce-4034-933b-7c601009943d",
   "metadata": {},
   "outputs": [],
   "source": [
    "issue_list_to_merge.issue_link = issue_list_to_merge.issue_link.apply(lambda s: 'https://comicbookrealm.com' + s)"
   ]
  },
  {
   "cell_type": "code",
   "execution_count": null,
   "id": "43d15dc8-40da-45cd-bb17-f8063af49aac",
   "metadata": {},
   "outputs": [],
   "source": [
    "issue_list_to_merge"
   ]
  },
  {
   "cell_type": "code",
   "execution_count": null,
   "id": "021340fc-33ea-4e6b-a9ff-8c1742005f1a",
   "metadata": {},
   "outputs": [],
   "source": []
  },
  {
   "cell_type": "code",
   "execution_count": null,
   "id": "170ca60c-2cbe-43ee-b97b-dd4e19b889b0",
   "metadata": {},
   "outputs": [],
   "source": [
    "pubs_to_merge = df_pub[['id', 'name', 'titles_tracking', 'comics_tracking']].rename({'id': 'pub_id'}, axis=1)"
   ]
  },
  {
   "cell_type": "code",
   "execution_count": null,
   "id": "e987f285-c337-42e5-b185-c1dee0fcfcb1",
   "metadata": {},
   "outputs": [],
   "source": [
    "title_to_merge = df_title[['title_link', 'volume', 'years', 'issues']]"
   ]
  },
  {
   "cell_type": "code",
   "execution_count": null,
   "id": "f968147c-eb52-4477-9fd9-ce9b99592183",
   "metadata": {},
   "outputs": [],
   "source": [
    "dfm = df.merge(issue_list_to_merge, on='issue_link', how='left')"
   ]
  },
  {
   "cell_type": "code",
   "execution_count": null,
   "id": "3066acb6-1f1f-49da-a979-338045b0d6c2",
   "metadata": {},
   "outputs": [],
   "source": [
    "dfm.info()"
   ]
  },
  {
   "cell_type": "code",
   "execution_count": null,
   "id": "aa282e56-4a1c-4bab-95b8-317d79b65095",
   "metadata": {},
   "outputs": [],
   "source": [
    "dfm1 = dfm.merge(title_to_merge, on='title_link', how='left').rename({'issues': 'issues_total'}, axis=1)"
   ]
  },
  {
   "cell_type": "code",
   "execution_count": null,
   "id": "79d10cd6-0102-4df4-84ab-6de6500f93c8",
   "metadata": {},
   "outputs": [],
   "source": [
    "dfm1.shape"
   ]
  },
  {
   "cell_type": "code",
   "execution_count": null,
   "id": "aee8089e-13f0-4f56-b20e-ca7a09f5c239",
   "metadata": {},
   "outputs": [],
   "source": [
    "dfm2 = dfm1.merge(pubs_to_merge, on='pub_id', how='left')"
   ]
  },
  {
   "cell_type": "code",
   "execution_count": null,
   "id": "606ed303-8db0-4e48-bfd2-0847b8f99452",
   "metadata": {},
   "outputs": [],
   "source": [
    "dfm2"
   ]
  },
  {
   "cell_type": "code",
   "execution_count": null,
   "id": "76acdf54-032b-41ff-bc09-1124c495e260",
   "metadata": {},
   "outputs": [],
   "source": [
    "dff = dfm2.rename({'name': 'pub_name', 'titles_tracking': 'pub_titles_total', \n",
    "                   'comics_tracking': 'pub_issues_total'}, axis=1)"
   ]
  },
  {
   "cell_type": "code",
   "execution_count": null,
   "id": "35b9f2fa-c1d4-4009-9679-ab80cd3c6030",
   "metadata": {},
   "outputs": [],
   "source": [
    "dff.info(memory_usage='deep')"
   ]
  },
  {
   "cell_type": "code",
   "execution_count": null,
   "id": "259f7c4e-4134-4523-a349-1633b0925037",
   "metadata": {},
   "outputs": [],
   "source": []
  },
  {
   "cell_type": "code",
   "execution_count": null,
   "id": "70977dc0-af31-4568-ba5d-c5ede7b63fc6",
   "metadata": {},
   "outputs": [],
   "source": [
    "dff.pages = pd.to_numeric(dff.pages, errors='coerce')"
   ]
  },
  {
   "cell_type": "code",
   "execution_count": null,
   "id": "66040ab5-8419-4d67-ab76-5256da7ec6a7",
   "metadata": {},
   "outputs": [],
   "source": [
    "dff.issues_total = pd.to_numeric(dff.issues_total.str.replace(',', ''))"
   ]
  },
  {
   "cell_type": "code",
   "execution_count": null,
   "id": "4a0db152-2fc2-4466-bce3-2bcac661a3df",
   "metadata": {},
   "outputs": [],
   "source": [
    "dff.pub_titles_total = pd.to_numeric(dff.pub_titles_total.str.replace(',', ''))"
   ]
  },
  {
   "cell_type": "code",
   "execution_count": null,
   "id": "800d38b8-5df5-4d9f-a0ee-3516c843d648",
   "metadata": {},
   "outputs": [],
   "source": [
    "dff.pub_issues_total = pd.to_numeric(dff.pub_issues_total.str.replace(',', ''))"
   ]
  },
  {
   "cell_type": "code",
   "execution_count": null,
   "id": "87323f42-ce77-44f4-ab9a-f09d40d33ef5",
   "metadata": {},
   "outputs": [],
   "source": [
    "dff.to_parquet('all_data.parquet', engine='pyarrow')"
   ]
  },
  {
   "cell_type": "code",
   "execution_count": null,
   "id": "4c5ad1a0-16ff-47c4-bdb7-c7fffaed91e6",
   "metadata": {},
   "outputs": [],
   "source": []
  },
  {
   "cell_type": "code",
   "execution_count": null,
   "id": "ff12655c-519d-46d7-89f9-a797dd645b6b",
   "metadata": {},
   "outputs": [],
   "source": []
  }
 ],
 "metadata": {
  "kernelspec": {
   "display_name": "Python 3 (ipykernel)",
   "language": "python",
   "name": "python3"
  },
  "language_info": {
   "codemirror_mode": {
    "name": "ipython",
    "version": 3
   },
   "file_extension": ".py",
   "mimetype": "text/x-python",
   "name": "python",
   "nbconvert_exporter": "python",
   "pygments_lexer": "ipython3",
   "version": "3.9.7"
  }
 },
 "nbformat": 4,
 "nbformat_minor": 5
}
