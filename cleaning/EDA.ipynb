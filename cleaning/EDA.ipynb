{
 "cells": [
  {
   "cell_type": "code",
   "execution_count": 1,
   "id": "72fcbf44-7f26-4c5c-b93e-6f6a992cf890",
   "metadata": {},
   "outputs": [],
   "source": [
    "import pandas as pd\n",
    "import numpy as np\n",
    "import matplotlib.pyplot as plt\n",
    "import seaborn as sns\n",
    "pd.options.mode.chained_assignment = None\n",
    "sns.set_theme()"
   ]
  },
  {
   "cell_type": "code",
   "execution_count": 2,
   "id": "af30753f-563d-4b44-bb70-745ae310b16a",
   "metadata": {},
   "outputs": [],
   "source": [
    "pd.options.display.max_columns = 50\n",
    "pd.options.display.max_rows = 200"
   ]
  },
  {
   "cell_type": "code",
   "execution_count": 3,
   "id": "831ce8e1-2e25-4f9c-a388-9ed494f55b1c",
   "metadata": {},
   "outputs": [],
   "source": [
    "data = pd.read_parquet('../data/all_data.parquet')"
   ]
  },
  {
   "cell_type": "code",
   "execution_count": 4,
   "id": "e9eefea7-ce00-401c-a3fa-04d109ee8a25",
   "metadata": {},
   "outputs": [
    {
     "name": "stdout",
     "output_type": "stream",
     "text": [
      "<class 'pandas.core.frame.DataFrame'>\n",
      "Int64Index: 461301 entries, 0 to 461300\n",
      "Data columns (total 29 columns):\n",
      " #   Column              Non-Null Count   Dtype  \n",
      "---  ------              --------------   -----  \n",
      " 0   title               461301 non-null  object \n",
      " 1   title_link          461301 non-null  object \n",
      " 2   issue_link          461301 non-null  object \n",
      " 3   cover_link          461301 non-null  object \n",
      " 4   issue               461301 non-null  object \n",
      " 5   cover_date          369712 non-null  object \n",
      " 6   cover_price         461301 non-null  object \n",
      " 7   current_value       461301 non-null  object \n",
      " 8   hist_prices_link    461301 non-null  object \n",
      " 9   searched            461301 non-null  int64  \n",
      " 10  owned               461301 non-null  int64  \n",
      " 11  pages               208011 non-null  float64\n",
      " 12  rating              461301 non-null  float64\n",
      " 13  rating_count        461301 non-null  int64  \n",
      " 14  ISBN-UPC            197912 non-null  object \n",
      " 15  est_print_run       30446 non-null   object \n",
      " 16  variant_of          131457 non-null  object \n",
      " 17  preview             15563 non-null   object \n",
      " 18  synopsis            291190 non-null  object \n",
      " 19  contributors_names  461301 non-null  object \n",
      " 20  contributors_roles  461301 non-null  object \n",
      " 21  characters          461301 non-null  object \n",
      " 22  pub_id              461301 non-null  float64\n",
      " 23  volume              210548 non-null  object \n",
      " 24  years               459453 non-null  object \n",
      " 25  issues_total        456401 non-null  float64\n",
      " 26  pub_name            461301 non-null  object \n",
      " 27  pub_titles_total    461301 non-null  int64  \n",
      " 28  pub_issues_total    461301 non-null  int64  \n",
      "dtypes: float64(4), int64(5), object(20)\n",
      "memory usage: 854.4 MB\n"
     ]
    }
   ],
   "source": [
    "data.info(memory_usage='deep')"
   ]
  },
  {
   "cell_type": "code",
   "execution_count": 5,
   "id": "074df533-8e65-4ffd-bc04-f070a237c92b",
   "metadata": {},
   "outputs": [],
   "source": [
    "titles = pd.read_csv('../data/titles_list_data.csv', low_memory=False, index_col=[0])"
   ]
  },
  {
   "cell_type": "code",
   "execution_count": 6,
   "id": "61127103-a26c-4e8f-b8d5-e4c1fc6d8ffd",
   "metadata": {},
   "outputs": [
    {
     "data": {
      "text/plain": [
       "False    59483\n",
       "True      7397\n",
       "Name: title, dtype: int64"
      ]
     },
     "execution_count": 6,
     "metadata": {},
     "output_type": "execute_result"
    }
   ],
   "source": [
    "titles.title.duplicated().value_counts()\n",
    "# there are identical titles so we have to connect them with a unique id for convenience"
   ]
  },
  {
   "cell_type": "code",
   "execution_count": 7,
   "id": "45631a8b-c015-4d30-8ea0-fa90f87efae3",
   "metadata": {},
   "outputs": [
    {
     "data": {
      "text/plain": [
       "'https://comicbookrealm.com/series/4036/54341/dc-comics-mazing-man-issue-1'"
      ]
     },
     "execution_count": 7,
     "metadata": {},
     "output_type": "execute_result"
    }
   ],
   "source": [
    "data.issue_link[0]"
   ]
  },
  {
   "cell_type": "code",
   "execution_count": 8,
   "id": "965059cf-942a-472b-aeb9-1e404e6ff0bc",
   "metadata": {},
   "outputs": [],
   "source": [
    "# extract titles' and issues' unique ids\n",
    "data['title_id'] = data.title_link.str.extract(pat=r'/series.(.+\\d)/\\d.+')\n",
    "data['issue_id'] = data.issue_link.str.extract(pat=r'/series/.+\\d/(.+\\d)/.+')"
   ]
  },
  {
   "cell_type": "code",
   "execution_count": 9,
   "id": "9ab08792-635f-4e2d-b7a1-c14441d6b962",
   "metadata": {},
   "outputs": [],
   "source": [
    "# keep relevant columns\n",
    "df = data[['pub_name', 'title', 'title_id', 'issue', 'variant_of', 'cover_date', \n",
    "           'years', 'cover_price', 'current_value', 'searched', \n",
    "          'owned', 'volume', 'issues_total',\n",
    "           'pub_titles_total', 'pub_issues_total',\n",
    "           'contributors_names', 'contributors_roles', 'characters']]"
   ]
  },
  {
   "cell_type": "code",
   "execution_count": 10,
   "id": "240ee1c1-e380-42bf-b4c0-a7103a226be3",
   "metadata": {},
   "outputs": [],
   "source": [
    "# turn prices into numerical\n",
    "df.loc[:, 'cover_price'] = df.loc[:, 'cover_price'].str.replace('[$,]', '', regex=True)\n",
    "df.loc[:, 'cover_price'] = df.loc[:, 'cover_price'].str.replace('Free', '0', regex=False)\n",
    "df.loc[:, 'cover_price'] = df.loc[:, 'cover_price'].apply(eval)"
   ]
  },
  {
   "cell_type": "code",
   "execution_count": 11,
   "id": "af9f07e0-16aa-4290-9913-394d78f5fa00",
   "metadata": {},
   "outputs": [],
   "source": [
    "df.loc[:, 'current_value'] = df.loc[:, 'current_value'].str.replace('[$,]', '', regex=True)\n",
    "df.loc[:, 'current_value'] = df.loc[:, 'current_value'].str.replace('Free', '0', regex=False)\n",
    "df.loc[:, 'current_value'] = df.loc[:, 'current_value'].apply(eval)"
   ]
  },
  {
   "cell_type": "code",
   "execution_count": 12,
   "id": "0f614f44-9af7-42e9-ad71-912c11815bc2",
   "metadata": {
    "tags": []
   },
   "outputs": [
    {
     "data": {
      "text/html": [
       "<div>\n",
       "<style scoped>\n",
       "    .dataframe tbody tr th:only-of-type {\n",
       "        vertical-align: middle;\n",
       "    }\n",
       "\n",
       "    .dataframe tbody tr th {\n",
       "        vertical-align: top;\n",
       "    }\n",
       "\n",
       "    .dataframe thead th {\n",
       "        text-align: right;\n",
       "    }\n",
       "</style>\n",
       "<table border=\"1\" class=\"dataframe\">\n",
       "  <thead>\n",
       "    <tr style=\"text-align: right;\">\n",
       "      <th></th>\n",
       "      <th>pub_name</th>\n",
       "      <th>title</th>\n",
       "      <th>title_id</th>\n",
       "      <th>issue</th>\n",
       "      <th>variant_of</th>\n",
       "      <th>cover_date</th>\n",
       "      <th>years</th>\n",
       "      <th>cover_price</th>\n",
       "      <th>current_value</th>\n",
       "      <th>searched</th>\n",
       "      <th>owned</th>\n",
       "      <th>volume</th>\n",
       "      <th>issues_total</th>\n",
       "      <th>pub_titles_total</th>\n",
       "      <th>pub_issues_total</th>\n",
       "      <th>contributors_names</th>\n",
       "      <th>contributors_roles</th>\n",
       "      <th>characters</th>\n",
       "    </tr>\n",
       "  </thead>\n",
       "  <tbody>\n",
       "    <tr>\n",
       "      <th>44922</th>\n",
       "      <td>DC Comics</td>\n",
       "      <td>Superman Comics</td>\n",
       "      <td>47267</td>\n",
       "      <td>Ashcan</td>\n",
       "      <td>None</td>\n",
       "      <td>None</td>\n",
       "      <td>1939</td>\n",
       "      <td>0.0</td>\n",
       "      <td>300000.0</td>\n",
       "      <td>97</td>\n",
       "      <td>1</td>\n",
       "      <td>One-Shot</td>\n",
       "      <td>1.0</td>\n",
       "      <td>4688</td>\n",
       "      <td>57043</td>\n",
       "      <td>no contributors assigned</td>\n",
       "      <td>no contributors assigned</td>\n",
       "      <td>no characters assigned</td>\n",
       "    </tr>\n",
       "    <tr>\n",
       "      <th>569</th>\n",
       "      <td>DC Comics</td>\n",
       "      <td>Action Comics</td>\n",
       "      <td>2618</td>\n",
       "      <td># 2</td>\n",
       "      <td>None</td>\n",
       "      <td>Jul '38</td>\n",
       "      <td>1938-2011 2016-Present</td>\n",
       "      <td>0.0</td>\n",
       "      <td>175000.0</td>\n",
       "      <td>18536</td>\n",
       "      <td>7</td>\n",
       "      <td>Vol. 1</td>\n",
       "      <td>1269.0</td>\n",
       "      <td>4688</td>\n",
       "      <td>57043</td>\n",
       "      <td>['Bernard Baily', 'Russell Cole', 'Sven Elven'...</td>\n",
       "      <td>['Pencils-Inks', 'Scripts-Pencils-Inks', 'Penc...</td>\n",
       "      <td>[['Adam Springer', '/avatars/default.gif', '(N...</td>\n",
       "    </tr>\n",
       "    <tr>\n",
       "      <th>1552</th>\n",
       "      <td>DC Comics</td>\n",
       "      <td>Action Comics</td>\n",
       "      <td>2618</td>\n",
       "      <td># 8b</td>\n",
       "      <td>Issue # 8</td>\n",
       "      <td>Dec '38</td>\n",
       "      <td>1938-2011 2016-Present</td>\n",
       "      <td>0.0</td>\n",
       "      <td>56750.0</td>\n",
       "      <td>3057</td>\n",
       "      <td>2</td>\n",
       "      <td>Vol. 1</td>\n",
       "      <td>1269.0</td>\n",
       "      <td>4688</td>\n",
       "      <td>57043</td>\n",
       "      <td>['Joe Shuster', 'Jerry Siegel']</td>\n",
       "      <td>['Pencils', 'Scripts']</td>\n",
       "      <td>[['Box-Ears', '/character-photos/character_324...</td>\n",
       "    </tr>\n",
       "    <tr>\n",
       "      <th>260820</th>\n",
       "      <td>Eastern Color Printing Co.</td>\n",
       "      <td>Century of Comics</td>\n",
       "      <td>31667</td>\n",
       "      <td>nn</td>\n",
       "      <td>None</td>\n",
       "      <td>1933</td>\n",
       "      <td>1933</td>\n",
       "      <td>0.0</td>\n",
       "      <td>46000.0</td>\n",
       "      <td>17</td>\n",
       "      <td>0</td>\n",
       "      <td>One-Shot</td>\n",
       "      <td>1.0</td>\n",
       "      <td>19</td>\n",
       "      <td>400</td>\n",
       "      <td>no contributors assigned</td>\n",
       "      <td>no contributors assigned</td>\n",
       "      <td>no characters assigned</td>\n",
       "    </tr>\n",
       "    <tr>\n",
       "      <th>368677</th>\n",
       "      <td>First Funnies, Inc.</td>\n",
       "      <td>Motion Picture Funnies Weekly</td>\n",
       "      <td>12104</td>\n",
       "      <td># 1</td>\n",
       "      <td>None</td>\n",
       "      <td>Apr '39</td>\n",
       "      <td>1939</td>\n",
       "      <td>0.0</td>\n",
       "      <td>35000.0</td>\n",
       "      <td>1680</td>\n",
       "      <td>2</td>\n",
       "      <td>None</td>\n",
       "      <td>4.0</td>\n",
       "      <td>1</td>\n",
       "      <td>4</td>\n",
       "      <td>['Bill Everett', 'Fred Schwab']</td>\n",
       "      <td>['Pencils-Inks', 'CoverArt']</td>\n",
       "      <td>[['Namor the Sub-Mariner', '/character-photos/...</td>\n",
       "    </tr>\n",
       "  </tbody>\n",
       "</table>\n",
       "</div>"
      ],
      "text/plain": [
       "                          pub_name                          title title_id  \\\n",
       "44922                    DC Comics                Superman Comics    47267   \n",
       "569                      DC Comics                  Action Comics     2618   \n",
       "1552                     DC Comics                  Action Comics     2618   \n",
       "260820  Eastern Color Printing Co.              Century of Comics    31667   \n",
       "368677         First Funnies, Inc.  Motion Picture Funnies Weekly    12104   \n",
       "\n",
       "         issue variant_of cover_date                   years  cover_price  \\\n",
       "44922   Ashcan       None       None                    1939          0.0   \n",
       "569        # 2       None    Jul '38  1938-2011 2016-Present          0.0   \n",
       "1552      # 8b  Issue # 8    Dec '38  1938-2011 2016-Present          0.0   \n",
       "260820      nn       None       1933                    1933          0.0   \n",
       "368677     # 1       None    Apr '39                    1939          0.0   \n",
       "\n",
       "        current_value  searched  owned    volume  issues_total  \\\n",
       "44922        300000.0        97      1  One-Shot           1.0   \n",
       "569          175000.0     18536      7    Vol. 1        1269.0   \n",
       "1552          56750.0      3057      2    Vol. 1        1269.0   \n",
       "260820        46000.0        17      0  One-Shot           1.0   \n",
       "368677        35000.0      1680      2      None           4.0   \n",
       "\n",
       "        pub_titles_total  pub_issues_total  \\\n",
       "44922               4688             57043   \n",
       "569                 4688             57043   \n",
       "1552                4688             57043   \n",
       "260820                19               400   \n",
       "368677                 1                 4   \n",
       "\n",
       "                                       contributors_names  \\\n",
       "44922                            no contributors assigned   \n",
       "569     ['Bernard Baily', 'Russell Cole', 'Sven Elven'...   \n",
       "1552                      ['Joe Shuster', 'Jerry Siegel']   \n",
       "260820                           no contributors assigned   \n",
       "368677                    ['Bill Everett', 'Fred Schwab']   \n",
       "\n",
       "                                       contributors_roles  \\\n",
       "44922                            no contributors assigned   \n",
       "569     ['Pencils-Inks', 'Scripts-Pencils-Inks', 'Penc...   \n",
       "1552                               ['Pencils', 'Scripts']   \n",
       "260820                           no contributors assigned   \n",
       "368677                       ['Pencils-Inks', 'CoverArt']   \n",
       "\n",
       "                                               characters  \n",
       "44922                              no characters assigned  \n",
       "569     [['Adam Springer', '/avatars/default.gif', '(N...  \n",
       "1552    [['Box-Ears', '/character-photos/character_324...  \n",
       "260820                             no characters assigned  \n",
       "368677  [['Namor the Sub-Mariner', '/character-photos/...  "
      ]
     },
     "execution_count": 12,
     "metadata": {},
     "output_type": "execute_result"
    }
   ],
   "source": [
    "# Many issues with cover price 0 have high current value so we keep them\n",
    "df[df.cover_price == 0].sort_values('current_value', ascending=False).head(5)"
   ]
  },
  {
   "cell_type": "markdown",
   "id": "6b362899-5aa9-4f31-bd60-28f5cc5f04ce",
   "metadata": {},
   "source": [
    "### `issue` column\n",
    "\n",
    "There are several types of issues as indicated by their numbering and many strange numberings:\n",
    "\n",
    "* Simple ascending numbering # 1-...\n",
    "* 'Ashcan' Issues which are traditionally used to promote a new series (see [wiki](https://en.wikipedia.org/wiki/Ashcan_comic)). Ashcan comics can be quite rare and valuable, especially from the [Golden Age](https://en.wikipedia.org/wiki/Golden_Age_of_Comic_Books) (30s-50s)\n",
    "* Issues with `nn` meaning 'non-numbered'. Typically 0th issues or one-shots\n",
    "* Issues with numbering of the format: # (number)(variant-cover/ special ed./ convention ed. etc.): Normally these issues should be indicated as \"variant of\" (issue number) in the `variant_of` column\n",
    "* Of \"Vol ** # **\" format (where ** indicated a number). i.e. two enumerations are indicated, one for volume, one for issue number\n",
    "* Instead of issue number a date is given e.g. \"Spring 2007\" or simply \"1989\"\n",
    "* Numbering which includes letters e.g. \"C-2\" or \"x\"\n",
    "* Just the name of the protagonist or in general something explanatory e.g. \"Batwoman\"\n",
    "* The print run is indicated e.g. '# 2 - 2nd print'\n"
   ]
  },
  {
   "cell_type": "code",
   "execution_count": 13,
   "id": "cdedc044-cc89-489e-b897-fc7a9c14e962",
   "metadata": {},
   "outputs": [],
   "source": [
    "df_original = df.copy()"
   ]
  },
  {
   "cell_type": "code",
   "execution_count": 14,
   "id": "1817cf61-87c4-47e4-9a9a-ba45e4081606",
   "metadata": {},
   "outputs": [],
   "source": [
    "properdate = pd.read_csv('../data/proper_date.csv', low_memory=False)"
   ]
  },
  {
   "cell_type": "code",
   "execution_count": 15,
   "id": "147413b9-03f0-4b56-b65c-4721fd6000fd",
   "metadata": {
    "tags": []
   },
   "outputs": [],
   "source": [
    "df['proper_date'] = properdate"
   ]
  },
  {
   "cell_type": "code",
   "execution_count": 16,
   "id": "cd96c98c-09cc-402c-8b35-720e445a3c70",
   "metadata": {},
   "outputs": [],
   "source": [
    "df.dropna(subset=['proper_date'], inplace=True)"
   ]
  },
  {
   "cell_type": "code",
   "execution_count": 17,
   "id": "b3763cae-93bf-4552-bfa2-deb67a3fd6a9",
   "metadata": {
    "tags": []
   },
   "outputs": [],
   "source": [
    "df['year'] = pd.to_datetime(df['proper_date']).dt.year.apply(int) \n",
    "df['month'] = pd.to_datetime(df['proper_date']).dt.month.apply(int) "
   ]
  },
  {
   "cell_type": "code",
   "execution_count": 18,
   "id": "d9fd8d03-96df-4651-bbae-fef59046e49e",
   "metadata": {},
   "outputs": [],
   "source": [
    "# Global plot parameteres\n",
    "plt.rcParams['figure.figsize'] = 10,8\n",
    "sns.set(font_scale=1.5, style='dark')\n",
    "plt.style.use(\"dark_background\")"
   ]
  },
  {
   "cell_type": "code",
   "execution_count": 19,
   "id": "e56d2f38-4b1d-44fb-8f99-3fb32c29846d",
   "metadata": {},
   "outputs": [
    {
     "data": {
      "image/png": "[encoded data removed]",
      "text/plain": [
       "<Figure size 720x576 with 1 Axes>"
      ]
     },
     "metadata": {},
     "output_type": "display_data"
    }
   ],
   "source": [
    "df_to_plot = df.groupby('year').mean()['current_value']\n",
    "title='Average current value per year published'\n",
    "\n",
    "df_to_plot.plot()\n",
    "plt.title(title, size=20)\n",
    "\n",
    "save_loc = '../presentation/' + title + '.png'\n",
    "plt.savefig(save_loc, dpi=200, transparent=True)"
   ]
  },
  {
   "cell_type": "code",
   "execution_count": 20,
   "id": "34e69984-c81e-4265-964c-cedd98242e6f",
   "metadata": {},
   "outputs": [
    {
     "data": {
      "image/png": "[encoded data removed]",
      "text/plain": [
       "<Figure size 720x576 with 1 Axes>"
      ]
     },
     "metadata": {},
     "output_type": "display_data"
    }
   ],
   "source": [
    "df_to_plot = df.groupby('month').mean()['current_value']\n",
    "title = 'Average current value per month published'\n",
    "\n",
    "df_to_plot.plot()\n",
    "plt.title(title, size=20)\n",
    "plt.xticks(np.arange(1, 13, 1.0))\n",
    "plt.yticks(np.arange(0, 220, 10.0))\n",
    "\n",
    "save_loc = '../presentation/' + title + '.png'\n",
    "plt.savefig(save_loc, dpi=200, transparent=True)"
   ]
  },
  {
   "cell_type": "code",
   "execution_count": 21,
   "id": "d787cc64-9d9b-4488-8751-9f4283d34d3c",
   "metadata": {},
   "outputs": [],
   "source": [
    "df_stats = pd.DataFrame(columns = ['Description', 'Value'])"
   ]
  },
  {
   "cell_type": "code",
   "execution_count": null,
   "id": "5306095e-6834-42ae-b0ae-15980a94ce0a",
   "metadata": {},
   "outputs": [],
   "source": [
    "Description = 'Number of issues'\n",
    "Value = len(df_original)\n",
    "df_stats = df_stats.append({'Description': Description, 'Value': Value}, ignore_index=True)"
   ]
  },
  {
   "cell_type": "code",
   "execution_count": null,
   "id": "d1418353-bce1-45d0-969a-ecf45ae43932",
   "metadata": {},
   "outputs": [],
   "source": [
    "Description = 'Number of titles'\n",
    "Value = len(df_original['title'].value_counts())\n",
    "df_stats = df_stats.append({'Description': Description, 'Value': Value}, ignore_index=True)"
   ]
  },
  {
   "cell_type": "code",
   "execution_count": null,
   "id": "8041789a-3a4e-48c8-8fa9-01be83d0deb2",
   "metadata": {},
   "outputs": [],
   "source": [
    "Description = 'Average issues per title'\n",
    "Value = len(df_original)/len(df_original['title'].value_counts())\n",
    "df_stats = df_stats.append({'Description': Description, 'Value': Value}, ignore_index=True)"
   ]
  },
  {
   "cell_type": "code",
   "execution_count": null,
   "id": "620bd3fb-16d1-4fbc-98aa-0926b872f761",
   "metadata": {},
   "outputs": [],
   "source": [
    "Description = 'Average current value (USD)'\n",
    "Value = df_original['current_value'].mean()\n",
    "df_stats = df_stats.append({'Description': Description, 'Value': Value}, ignore_index=True)"
   ]
  },
  {
   "cell_type": "code",
   "execution_count": null,
   "id": "fd9ad69f-d130-4952-8d5c-050a93430d5c",
   "metadata": {},
   "outputs": [],
   "source": [
    "Description = 'Average cover price (USD)'\n",
    "Value = df_original['cover_price'].mean()\n",
    "df_stats = df_stats.append({'Description': Description, 'Value': Value}, ignore_index=True)"
   ]
  },
  {
   "cell_type": "code",
   "execution_count": null,
   "id": "9e58c0d2-3682-4646-a5af-c35ce1696a88",
   "metadata": {},
   "outputs": [],
   "source": [
    "Description = 'Number of publishers'\n",
    "Value = len(df_original['pub_name'].value_counts())\n",
    "df_stats = df_stats.append({'Description': Description, 'Value': Value}, ignore_index=True)"
   ]
  },
  {
   "cell_type": "code",
   "execution_count": null,
   "id": "336dc88a-2669-40e6-a9bc-a769a9a10f7d",
   "metadata": {},
   "outputs": [],
   "source": [
    "Description = 'Average titles per publisher'\n",
    "Value = len(df_original['title'].value_counts())/len(df_original['pub_name'].value_counts())\n",
    "df_stats = df_stats.append({'Description': Description, 'Value': Value}, ignore_index=True)"
   ]
  },
  {
   "cell_type": "code",
   "execution_count": null,
   "id": "e3fc98a7-27f3-4b10-8105-111593f0db0a",
   "metadata": {},
   "outputs": [],
   "source": [
    "df_stats.to_excel(\"../presentation/stats.xlsx\")"
   ]
  },
  {
   "cell_type": "code",
   "execution_count": null,
   "id": "4ea0dae3-0922-4762-86c1-ec0de8158902",
   "metadata": {},
   "outputs": [],
   "source": [
    "df_stats"
   ]
  }
 ],
 "metadata": {
  "kernelspec": {
   "display_name": "Python 3 (ipykernel)",
   "language": "python",
   "name": "python3"
  },
  "language_info": {
   "codemirror_mode": {
    "name": "ipython",
    "version": 3
   },
   "file_extension": ".py",
   "mimetype": "text/x-python",
   "name": "python",
   "nbconvert_exporter": "python",
   "pygments_lexer": "ipython3",
   "version": "3.9.7"
  }
 },
 "nbformat": 4,
 "nbformat_minor": 5
}
