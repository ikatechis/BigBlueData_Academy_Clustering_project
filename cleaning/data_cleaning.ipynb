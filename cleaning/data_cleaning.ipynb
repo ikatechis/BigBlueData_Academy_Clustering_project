{
 "cells": [
  {
   "cell_type": "code",
   "execution_count": null,
   "id": "72fcbf44-7f26-4c5c-b93e-6f6a992cf890",
   "metadata": {},
   "outputs": [],
   "source": [
    "import pandas as pd\n",
    "import numpy as np\n",
    "import matplotlib.pyplot as plt"
   ]
  },
  {
   "cell_type": "code",
   "execution_count": null,
   "id": "af30753f-563d-4b44-bb70-745ae310b16a",
   "metadata": {},
   "outputs": [],
   "source": [
    "pd.options.display.max_columns = 50\n",
    "pd.options.display.max_rows = 200"
   ]
  },
  {
   "cell_type": "code",
   "execution_count": null,
   "id": "c2eb1a40-af50-45dd-9f65-6d029f1d03fa",
   "metadata": {},
   "outputs": [],
   "source": [
    "# Import the os module\n",
    "import os\n",
    "\n",
    "# Get the current working directory\n",
    "cwd = os.getcwd()\n",
    "\n",
    "# Print the current working directory\n",
    "print(\"Current working directory: {0}\".format(cwd))"
   ]
  },
  {
   "cell_type": "code",
   "execution_count": null,
   "id": "831ce8e1-2e25-4f9c-a388-9ed494f55b1c",
   "metadata": {},
   "outputs": [],
   "source": [
    "data = pd.read_parquet('../data/all_data.parquet')"
   ]
  },
  {
   "cell_type": "code",
   "execution_count": null,
   "id": "e9eefea7-ce00-401c-a3fa-04d109ee8a25",
   "metadata": {},
   "outputs": [],
   "source": [
    "data.info(memory_usage='deep')"
   ]
  },
  {
   "cell_type": "code",
   "execution_count": null,
   "id": "074df533-8e65-4ffd-bc04-f070a237c92b",
   "metadata": {},
   "outputs": [],
   "source": [
    "titles = pd.read_csv('../data/titles_list_data.csv', low_memory=False, index_col=[0])"
   ]
  },
  {
   "cell_type": "code",
   "execution_count": null,
   "id": "61127103-a26c-4e8f-b8d5-e4c1fc6d8ffd",
   "metadata": {},
   "outputs": [],
   "source": [
    "titles.title.duplicated().value_counts()\n",
    "# there are identical titles so we have to connect them with a unique id for convenience"
   ]
  },
  {
   "cell_type": "code",
   "execution_count": null,
   "id": "45631a8b-c015-4d30-8ea0-fa90f87efae3",
   "metadata": {},
   "outputs": [],
   "source": [
    "data.issue_link[0]"
   ]
  },
  {
   "cell_type": "code",
   "execution_count": null,
   "id": "965059cf-942a-472b-aeb9-1e404e6ff0bc",
   "metadata": {},
   "outputs": [],
   "source": [
    "# extract titles' and issues' unique ids\n",
    "data['title_id'] = data.title_link.str.extract(pat=r'/series.(.+\\d)/\\d.+')\n",
    "data['issue_id'] = data.issue_link.str.extract(pat=r'/series/.+\\d/(.+\\d)/.+')"
   ]
  },
  {
   "cell_type": "code",
   "execution_count": null,
   "id": "9ab08792-635f-4e2d-b7a1-c14441d6b962",
   "metadata": {},
   "outputs": [],
   "source": [
    "# keep relevant columns\n",
    "df = data[['pub_name', 'title', 'title_id', 'issue', 'variant_of', 'cover_date', \n",
    "           'years', 'cover_price', 'current_value', 'searched', \n",
    "          'owned', 'volume', 'issues_total',\n",
    "           'pub_titles_total', 'pub_issues_total',\n",
    "           'contributors_names', 'contributors_roles', 'characters']]"
   ]
  },
  {
   "cell_type": "code",
   "execution_count": null,
   "id": "240ee1c1-e380-42bf-b4c0-a7103a226be3",
   "metadata": {},
   "outputs": [],
   "source": [
    "# turn prices into numerical\n",
    "df.loc[:, 'cover_price'] = df.loc[:, 'cover_price'].str.replace('[$,]', '', regex=True)\n",
    "df.loc[:, 'cover_price'] = df.loc[:, 'cover_price'].str.replace('Free', '0', regex=False)\n",
    "df.loc[:, 'cover_price'] = df.loc[:, 'cover_price'].apply(eval)"
   ]
  },
  {
   "cell_type": "code",
   "execution_count": null,
   "id": "af9f07e0-16aa-4290-9913-394d78f5fa00",
   "metadata": {},
   "outputs": [],
   "source": [
    "df.loc[:, 'current_value'] = df.loc[:, 'current_value'].str.replace('[$,]', '', regex=True)\n",
    "df.loc[:, 'current_value'] = df.loc[:, 'current_value'].str.replace('Free', '0', regex=False)\n",
    "df.loc[:, 'current_value'] = df.loc[:, 'current_value'].apply(eval)"
   ]
  },
  {
   "cell_type": "code",
   "execution_count": null,
   "id": "0f614f44-9af7-42e9-ad71-912c11815bc2",
   "metadata": {},
   "outputs": [],
   "source": [
    "# Many issues with cover price 0 have high current value so we keep them\n",
    "df[df.cover_price == 0].sort_values('current_value', ascending=False).head(5)"
   ]
  },
  {
   "cell_type": "markdown",
   "id": "6b362899-5aa9-4f31-bd60-28f5cc5f04ce",
   "metadata": {},
   "source": [
    "### `issue` column\n",
    "\n",
    "There are several types of issues as indicated by their numbering and many strange numberings:\n",
    "\n",
    "* Simple ascending numbering # 1-...\n",
    "* 'Ashcan' Issues which are traditionally used to promote a new series (see [wiki](https://en.wikipedia.org/wiki/Ashcan_comic)). Ashcan comics can be quite rare and valuable, especially from the [Golden Age](https://en.wikipedia.org/wiki/Golden_Age_of_Comic_Books) (30s-50s)\n",
    "* Issues with `nn` meaning 'non-numbered'. Typically 0th issues or one-shots\n",
    "* Issues with numbering of the format: # (number)(variant-cover/ special ed./ convention ed. etc.): Normally these issues should be indicated as \"variant of\" (issue number) in the `variant_of` column\n",
    "* Of \"Vol ** # **\" format (where ** indicated a number). i.e. two enumerations are indicated, one for volume, one for issue number\n",
    "* Instead of issue number a date is given e.g. \"Spring 2007\" or simply \"1989\"\n",
    "* Numbering which includes letters e.g. \"C-2\" or \"x\"\n",
    "* Just the name of the protagonist or in general something explanatory e.g. \"Batwoman\"\n",
    "* The print run is indicated e.g. '# 2 - 2nd print'\n"
   ]
  },
  {
   "cell_type": "code",
   "execution_count": null,
   "id": "1817cf61-87c4-47e4-9a9a-ba45e4081606",
   "metadata": {},
   "outputs": [],
   "source": [
    "# Let's get rid of "
   ]
  },
  {
   "cell_type": "code",
   "execution_count": null,
   "id": "f7c3438a-515d-4af3-8b34-c46ce473f0df",
   "metadata": {},
   "outputs": [],
   "source": [
    "df.loc[:, 'proper_date'] = df.loc[:, 'cover_date']"
   ]
  },
  {
   "cell_type": "code",
   "execution_count": null,
   "id": "1addc000-72c2-4234-9f68-c0a8601653b9",
   "metadata": {},
   "outputs": [],
   "source": [
    "df.loc[:, 'proper_date'][df['proper_date'].isnull()] = df['years'][df['proper_date'].isnull()].str[:4]"
   ]
  },
  {
   "cell_type": "code",
   "execution_count": null,
   "id": "ae6cfbd8-56b6-4e0a-8178-ac1e3cd95010",
   "metadata": {},
   "outputs": [],
   "source": [
    "df.loc[:, 'proper_date'] = df.loc[:, 'proper_date'].str.replace('Winter ', '', regex=False)\n",
    "df.loc[:, 'proper_date'] = df.loc[:, 'proper_date'].str.replace('Early ', '', regex=False)\n",
    "df.loc[:, 'proper_date'] = df.loc[:, 'proper_date'].str.replace('Spring ', '', regex=False)\n",
    "df.loc[:, 'proper_date'] = df.loc[:, 'proper_date'].str.replace('Holiday ', '', regex=False)\n",
    "df.loc[:, 'proper_date'] = df.loc[:, 'proper_date'].str.replace('Summer ', '', regex=False)\n",
    "df.loc[:, 'proper_date'] = df.loc[:, 'proper_date'].str.replace('Late ', '', regex=False)\n",
    "df.loc[:, 'proper_date'] = df.loc[:, 'proper_date'].str.replace('Fall ', '', regex=False)\n",
    "df.loc[:, 'proper_date'] = df.loc[:, 'proper_date'].str.replace('Mid ', '', regex=False)"
   ]
  },
  {
   "cell_type": "code",
   "execution_count": null,
   "id": "66318e9c-4f3c-4d00-bce6-0b213208bcad",
   "metadata": {},
   "outputs": [],
   "source": [
    "df.loc[df['proper_date'] == 'Spring','proper_date'] = np.nan\n",
    "df.loc[df['proper_date'] == 'Unda','proper_date'] = np.nan\n",
    "df.loc[df['proper_date'] == 'Unkn','proper_date'] = np.nan\n",
    "df.loc[df['proper_date'] == 'Winter','proper_date'] = np.nan\n",
    "df.loc[df['proper_date'] == 'Early','proper_date'] = np.nan\n",
    "df.loc[df['proper_date'] == 'Late','proper_date'] = np.nan\n",
    "df.loc[df['proper_date'] == 'No D','proper_date'] = np.nan\n",
    "df.loc[df['proper_date'] == '199','proper_date'] = '1990'"
   ]
  },
  {
   "cell_type": "code",
   "execution_count": null,
   "id": "0f1a7830-d8c9-4466-94f2-21d09681d230",
   "metadata": {
    "tags": []
   },
   "outputs": [],
   "source": [
    "for i in range(30,100):\n",
    "    oldvalue = \"'\"+str(i)\n",
    "    newvalue = '19'+str(i)\n",
    "    df.loc[:, 'proper_date'] = df.loc[:, 'proper_date'].str.replace(oldvalue, newvalue, regex=False)"
   ]
  },
  {
   "cell_type": "code",
   "execution_count": null,
   "id": "263ae62d-9670-440e-8820-e4ba69b968b6",
   "metadata": {
    "tags": []
   },
   "outputs": [],
   "source": [
    "for i in range(0,10):\n",
    "    oldvalue = \"'0\"+str(i)\n",
    "    newvalue = '200'+str(i)\n",
    "    df.loc[:, 'proper_date'] = df.loc[:, 'proper_date'].str.replace(oldvalue, newvalue, regex=False)"
   ]
  },
  {
   "cell_type": "code",
   "execution_count": null,
   "id": "96c09e5b-bb96-48a2-bbbf-5b0884a76979",
   "metadata": {
    "tags": []
   },
   "outputs": [],
   "source": [
    "for i in range(10,23):\n",
    "    oldvalue = \"'\"+str(i)\n",
    "    newvalue = '20'+str(i)\n",
    "    df.loc[:, 'proper_date'] = df.loc[:, 'proper_date'].str.replace(oldvalue, newvalue, regex=False)"
   ]
  },
  {
   "cell_type": "code",
   "execution_count": null,
   "id": "699e151e-92b6-424f-a979-0b8ae32f5564",
   "metadata": {},
   "outputs": [],
   "source": [
    "df.loc[:, 'proper_date'] = pd.to_datetime(df['proper_date'])"
   ]
  }
 ],
 "metadata": {
  "kernelspec": {
   "display_name": "Python 3 (ipykernel)",
   "language": "python",
   "name": "python3"
  },
  "language_info": {
   "codemirror_mode": {
    "name": "ipython",
    "version": 3
   },
   "file_extension": ".py",
   "mimetype": "text/x-python",
   "name": "python",
   "nbconvert_exporter": "python",
   "pygments_lexer": "ipython3",
   "version": "3.9.7"
  }
 },
 "nbformat": 4,
 "nbformat_minor": 5
}
