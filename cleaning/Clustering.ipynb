{
 "cells": [
  {
   "cell_type": "code",
   "execution_count": null,
   "id": "72fcbf44-7f26-4c5c-b93e-6f6a992cf890",
   "metadata": {},
   "outputs": [],
   "source": [
    "import pandas as pd\n",
    "import numpy as np\n",
    "import matplotlib.pyplot as plt\n",
    "import seaborn as sns\n",
    "\n",
    "from sklearn.preprocessing import StandardScaler\n",
    "from sklearn.cluster import AgglomerativeClustering\n",
    "from sklearn.cluster import KMeans\n",
    "from sklearn.metrics import  silhouette_score\n",
    "from sklearn import datasets\n",
    "from scipy.cluster.hierarchy import dendrogram, linkage\n",
    "from yellowbrick.cluster import SilhouetteVisualizer\n",
    "from yellowbrick.cluster import KElbowVisualizer\n",
    "\n",
    "pd.options.mode.chained_assignment = None\n",
    "pd.options.display.max_columns = 50\n",
    "pd.options.display.max_rows = 200"
   ]
  },
  {
   "cell_type": "code",
   "execution_count": null,
   "id": "831ce8e1-2e25-4f9c-a388-9ed494f55b1c",
   "metadata": {},
   "outputs": [],
   "source": [
    "data = pd.read_csv('../data/data_clean.csv', index_col=[0])"
   ]
  },
  {
   "cell_type": "code",
   "execution_count": null,
   "id": "12df4965-e20f-4470-bd4e-8dbe6526363a",
   "metadata": {},
   "outputs": [],
   "source": [
    "df = data.copy()\n",
    "df.dropna(inplace=True)"
   ]
  },
  {
   "cell_type": "code",
   "execution_count": null,
   "id": "80ae56e9-49d9-4cad-9f08-cdbc4781ea25",
   "metadata": {
    "tags": []
   },
   "outputs": [],
   "source": [
    "# true/false cols to 1/0\n",
    "df['variant'] = df['variant'].apply(int)\n",
    "df['first_appear_event'] = df['first_appear_event'].apply(int)\n",
    "df['death_event'] = df['death_event'].apply(int)\n",
    "df['origin_event'] = df['origin_event'].apply(int)"
   ]
  },
  {
   "cell_type": "code",
   "execution_count": null,
   "id": "a4f01d73-70a6-4ce7-9268-c49eada47f9f",
   "metadata": {},
   "outputs": [],
   "source": [
    "# create months_ago column\n",
    "df['months_ago'] = df['date'].apply(lambda x: (2022-int(x[:4]))*12+(1-int(x[5:7])))"
   ]
  },
  {
   "cell_type": "code",
   "execution_count": null,
   "id": "d0d99b31-cd56-4fc2-957c-4c7a8cf30ed8",
   "metadata": {},
   "outputs": [],
   "source": [
    "# create volume_type\n",
    "df['volume_type'] = df['volume'][df['volume']>'9']\n",
    "df['volume_type'] = df['volume_type'].fillna('ongoing')"
   ]
  },
  {
   "cell_type": "code",
   "execution_count": null,
   "id": "9ae12b24-01fd-4314-b691-766e3077c1af",
   "metadata": {},
   "outputs": [],
   "source": [
    "# set '0' to string 'volume'\n",
    "df['volume'][df['volume']>'9'] = '0'\n",
    "df['volume'] = df['volume'].apply(int)"
   ]
  },
  {
   "cell_type": "code",
   "execution_count": null,
   "id": "1f071706-2744-4466-abee-9fa2490a5676",
   "metadata": {
    "tags": []
   },
   "outputs": [],
   "source": [
    "# one hit encoding of volume_type, special\n",
    "df = df.join(pd.get_dummies(df['volume_type'], prefix='volume_type'))\n",
    "df = df.join(pd.get_dummies(df['special'], prefix='special'))"
   ]
  },
  {
   "cell_type": "code",
   "execution_count": null,
   "id": "ef32c3a0-f181-4d83-96d8-ae32a2126a46",
   "metadata": {
    "tags": []
   },
   "outputs": [],
   "source": [
    "# drop unwanted columns\n",
    "df_num = df.drop(columns=['pub_name', 'title', 'title_id', 'issues_total', 'volume_type', 'special', 'date'])"
   ]
  },
  {
   "cell_type": "code",
   "execution_count": null,
   "id": "0666aea4-674c-4778-aec4-51dd763653f5",
   "metadata": {},
   "outputs": [],
   "source": [
    "df_num"
   ]
  },
  {
   "cell_type": "code",
   "execution_count": null,
   "id": "e7397829-e508-4e29-8fb4-9552858dce5b",
   "metadata": {},
   "outputs": [],
   "source": []
  },
  {
   "cell_type": "code",
   "execution_count": null,
   "id": "3145405a-daa1-4300-9c16-90ef0892ba79",
   "metadata": {},
   "outputs": [],
   "source": [
    "df_sample = df_num.sample(10000)"
   ]
  },
  {
   "cell_type": "code",
   "execution_count": null,
   "id": "ab31bc41-406a-4970-a8bc-079cc89f3ebb",
   "metadata": {},
   "outputs": [],
   "source": [
    "# create X scaled\n",
    "ss = StandardScaler()\n",
    "ss.fit(df_sample)\n",
    "X = ss.transform(df_sample)"
   ]
  },
  {
   "cell_type": "code",
   "execution_count": null,
   "id": "c175889e-b687-45e0-a8a1-6ce4ca92f8bf",
   "metadata": {},
   "outputs": [],
   "source": [
    "model_kmeans = KMeans(n_clusters=3, random_state=0).fit(X)"
   ]
  },
  {
   "cell_type": "code",
   "execution_count": null,
   "id": "b4ae5767-1e28-4904-8d7a-0ba4e4bd2575",
   "metadata": {
    "tags": []
   },
   "outputs": [],
   "source": [
    "silhouette_score(X, model_kmeans.labels_)"
   ]
  },
  {
   "cell_type": "code",
   "execution_count": null,
   "id": "1a7c3750-2ffa-4874-bab3-c8e125ac3e10",
   "metadata": {
    "tags": []
   },
   "outputs": [],
   "source": [
    "visualizer = SilhouetteVisualizer(model_kmeans, colors='yellowbrick')\n",
    "visualizer.fit(X)\n",
    "visualizer.poof()"
   ]
  },
  {
   "cell_type": "code",
   "execution_count": null,
   "id": "4066befa-b882-497f-88f1-bc30598d21b6",
   "metadata": {},
   "outputs": [],
   "source": [
    "visualizer = KElbowVisualizer(model_kmeans, k=(2,10))\n",
    "visualizer.fit(X)\n",
    "visualizer.show()"
   ]
  },
  {
   "cell_type": "code",
   "execution_count": null,
   "id": "d8141a24-8492-4a74-9070-b809dd2f70b1",
   "metadata": {},
   "outputs": [],
   "source": []
  }
 ],
 "metadata": {
  "kernelspec": {
   "display_name": "Python 3 (ipykernel)",
   "language": "python",
   "name": "python3"
  },
  "language_info": {
   "codemirror_mode": {
    "name": "ipython",
    "version": 3
   },
   "file_extension": ".py",
   "mimetype": "text/x-python",
   "name": "python",
   "nbconvert_exporter": "python",
   "pygments_lexer": "ipython3",
   "version": "3.9.7"
  }
 },
 "nbformat": 4,
 "nbformat_minor": 5
}
