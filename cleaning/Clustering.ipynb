{
 "cells": [
  {
   "cell_type": "code",
   "execution_count": null,
   "id": "72fcbf44-7f26-4c5c-b93e-6f6a992cf890",
   "metadata": {},
   "outputs": [],
   "source": [
    "import pandas as pd\n",
    "import numpy as np\n",
    "import matplotlib.pyplot as plt\n",
    "import seaborn as sns\n",
    "\n",
    "from sklearn.preprocessing import StandardScaler\n",
    "from sklearn.cluster import AgglomerativeClustering\n",
    "from sklearn.cluster import KMeans\n",
    "from sklearn.metrics import  silhouette_score\n",
    "from sklearn import datasets\n",
    "from scipy.cluster.hierarchy import dendrogram, linkage\n",
    "from yellowbrick.cluster import SilhouetteVisualizer\n",
    "from yellowbrick.cluster import KElbowVisualizer\n",
    "\n",
    "pd.options.mode.chained_assignment = None\n",
    "pd.options.display.max_columns = 50\n",
    "pd.options.display.max_rows = 200"
   ]
  },
  {
   "cell_type": "code",
   "execution_count": null,
   "id": "831ce8e1-2e25-4f9c-a388-9ed494f55b1c",
   "metadata": {},
   "outputs": [],
   "source": [
    "data = pd.read_csv('../data/data_clean.csv', index_col=[0])"
   ]
  },
  {
   "cell_type": "code",
   "execution_count": null,
   "id": "12df4965-e20f-4470-bd4e-8dbe6526363a",
   "metadata": {},
   "outputs": [],
   "source": [
    "df = data.copy()\n",
    "df.dropna(inplace=True)"
   ]
  },
  {
   "cell_type": "code",
   "execution_count": null,
   "id": "80ae56e9-49d9-4cad-9f08-cdbc4781ea25",
   "metadata": {
    "tags": []
   },
   "outputs": [],
   "source": [
    "# true/false cols to 1/0\n",
    "df['variant'] = df['variant'].apply(int)\n",
    "df['first_appear_event'] = df['first_appear_event'].apply(int)\n",
    "df['death_event'] = df['death_event'].apply(int)\n",
    "df['origin_event'] = df['origin_event'].apply(int)"
   ]
  },
  {
   "cell_type": "code",
   "execution_count": null,
   "id": "a4f01d73-70a6-4ce7-9268-c49eada47f9f",
   "metadata": {},
   "outputs": [],
   "source": [
    "# create months_ago column\n",
    "df['months_ago'] = df['date'].apply(lambda x: (2022-int(x[:4]))*12+(1-int(x[5:7])))"
   ]
  },
  {
   "cell_type": "code",
   "execution_count": null,
   "id": "d0d99b31-cd56-4fc2-957c-4c7a8cf30ed8",
   "metadata": {},
   "outputs": [],
   "source": [
    "# create volume_type\n",
    "df['volume_type'] = df['volume'][df['volume']>'9']\n",
    "df['volume_type'] = df['volume_type'].fillna('ongoing')"
   ]
  },
  {
   "cell_type": "code",
   "execution_count": null,
   "id": "32186b3c-c419-4164-8a2c-9e4d821e4c7d",
   "metadata": {},
   "outputs": [],
   "source": [
    "# remove volume types\n",
    "df = df[~df['volume_type'].isin(['TPB/SC', 'HC', 'GN'])]"
   ]
  },
  {
   "cell_type": "code",
   "execution_count": null,
   "id": "9ae12b24-01fd-4314-b691-766e3077c1af",
   "metadata": {},
   "outputs": [],
   "source": [
    "# set '0' to string 'volume'\n",
    "df['volume'][df['volume']>'9'] = '0'\n",
    "df['volume'] = df['volume'].apply(int)"
   ]
  },
  {
   "cell_type": "code",
   "execution_count": null,
   "id": "40e0d302-ac64-4a98-b9a7-3ed6da28873f",
   "metadata": {},
   "outputs": [],
   "source": [
    "# drop cover price >9\n",
    "df = df[df['cover_price']<9]"
   ]
  },
  {
   "cell_type": "code",
   "execution_count": null,
   "id": "3d8e2120-2436-4435-b2aa-66150df093d4",
   "metadata": {},
   "outputs": [],
   "source": [
    "# drop years\n",
    "df['year'] = df['date'].str[:4].apply(int)\n",
    "df = df[df['year']>1935]\n",
    "df = df[df['year']!=2022]"
   ]
  },
  {
   "cell_type": "code",
   "execution_count": null,
   "id": "0ba3c9b6-163a-4aea-b327-7ec139e2ac79",
   "metadata": {
    "tags": []
   },
   "outputs": [],
   "source": [
    "# 0 cover price to year mean\n",
    "d = dict(df.groupby('year').mean()['cover_price'].sort_index())\n",
    "df['cover_price'][df['cover_price']==0] = df['year'].map(d)"
   ]
  },
  {
   "cell_type": "code",
   "execution_count": null,
   "id": "91de1a2a-0ee0-4368-bc87-2880fc69381f",
   "metadata": {},
   "outputs": [],
   "source": [
    "# create current_value/cover_price\n",
    "df['current_value'][df['current_value']==0] = df['cover_price']\n",
    "df['value_over_price'] = df['current_value']/df['cover_price']"
   ]
  },
  {
   "cell_type": "code",
   "execution_count": null,
   "id": "e2085de7-0743-4246-8415-5f3ed5676016",
   "metadata": {},
   "outputs": [],
   "source": [
    "# create pub_issues_total/pub_titles_total\n",
    "df['pub_issues_per_title'] = df['pub_issues_total']/df['pub_titles_total']"
   ]
  },
  {
   "cell_type": "code",
   "execution_count": null,
   "id": "98d6eef2-078a-4453-b7dd-6dea017ab1e8",
   "metadata": {},
   "outputs": [],
   "source": [
    "# one hit encoding of volume_type, special\n",
    "df = df.join(pd.get_dummies(df['volume_type'], prefix='volume_type'))\n",
    "df = df.join(pd.get_dummies(df['special'], prefix='special'))"
   ]
  },
  {
   "cell_type": "code",
   "execution_count": null,
   "id": "ef32c3a0-f181-4d83-96d8-ae32a2126a46",
   "metadata": {
    "tags": []
   },
   "outputs": [],
   "source": [
    "# drop unwanted columns\n",
    "#df = df.sample(10000)\n",
    "df_keep = df.drop(columns=['year', 'cover_price', 'current_value', 'pub_titles_total', 'pub_name', 'title', 'title_id', 'issues_total', 'volume_type', 'special', 'date'])"
   ]
  },
  {
   "cell_type": "code",
   "execution_count": null,
   "id": "ab31bc41-406a-4970-a8bc-079cc89f3ebb",
   "metadata": {
    "tags": []
   },
   "outputs": [],
   "source": [
    "# create X scaled\n",
    "ss = StandardScaler()\n",
    "ss.fit(df_keep)\n",
    "X = ss.transform(df_keep)"
   ]
  },
  {
   "cell_type": "code",
   "execution_count": null,
   "id": "c175889e-b687-45e0-a8a1-6ce4ca92f8bf",
   "metadata": {},
   "outputs": [],
   "source": [
    "model_kmeans = KMeans(n_clusters=4, random_state=526).fit(X)"
   ]
  },
  {
   "cell_type": "code",
   "execution_count": null,
   "id": "b4ae5767-1e28-4904-8d7a-0ba4e4bd2575",
   "metadata": {
    "tags": []
   },
   "outputs": [],
   "source": [
    "silhouette_score(X, model_kmeans.labels_)"
   ]
  },
  {
   "cell_type": "code",
   "execution_count": null,
   "id": "1a7c3750-2ffa-4874-bab3-c8e125ac3e10",
   "metadata": {
    "tags": []
   },
   "outputs": [],
   "source": [
    "visualizer = SilhouetteVisualizer(model_kmeans, colors='yellowbrick')\n",
    "visualizer.fit(X)\n",
    "visualizer.poof()"
   ]
  },
  {
   "cell_type": "code",
   "execution_count": null,
   "id": "4066befa-b882-497f-88f1-bc30598d21b6",
   "metadata": {
    "tags": []
   },
   "outputs": [],
   "source": [
    "visualizer = KElbowVisualizer(model_kmeans, k=(2,10))\n",
    "visualizer.fit(X)\n",
    "visualizer.show()"
   ]
  },
  {
   "cell_type": "code",
   "execution_count": null,
   "id": "19510294-70a2-40c8-a9f8-18d42e158d30",
   "metadata": {},
   "outputs": [],
   "source": []
  },
  {
   "cell_type": "markdown",
   "id": "2225f73e-4c29-40de-a691-108804d5c8bb",
   "metadata": {},
   "source": [
    "# Cluster exploration"
   ]
  },
  {
   "cell_type": "code",
   "execution_count": null,
   "id": "12aa04d8-b1e2-49b4-beaa-2b116ef0129a",
   "metadata": {},
   "outputs": [],
   "source": [
    "# Global plot parameteres\n",
    "plt.rcParams['figure.figsize'] = 10,8\n",
    "sns.set(font_scale=1.5, style='dark')\n",
    "plt.style.use(\"dark_background\")"
   ]
  },
  {
   "cell_type": "code",
   "execution_count": null,
   "id": "d8141a24-8492-4a74-9070-b809dd2f70b1",
   "metadata": {
    "tags": []
   },
   "outputs": [],
   "source": [
    "# put labels on dataset\n",
    "y = model_kmeans.labels_\n",
    "df['label'] = y"
   ]
  },
  {
   "cell_type": "code",
   "execution_count": null,
   "id": "e783ccae-9b51-42d9-8820-78219d611c0e",
   "metadata": {},
   "outputs": [],
   "source": [
    "df['label'].value_counts().sort_index()"
   ]
  },
  {
   "cell_type": "code",
   "execution_count": null,
   "id": "e36225df-b5eb-4303-9d03-cb4f20cddba3",
   "metadata": {},
   "outputs": [],
   "source": [
    "df.groupby('label').mean()"
   ]
  },
  {
   "cell_type": "code",
   "execution_count": null,
   "id": "b9d7cb6b-5a0f-421a-93d2-cfc31585ed78",
   "metadata": {
    "tags": []
   },
   "outputs": [],
   "source": [
    "columns = list(df.groupby('label').mean().columns)\n",
    "for col in columns:\n",
    "    ax = sns.boxplot(x='label', y=col, data=df)\n",
    "    plt.show()"
   ]
  },
  {
   "cell_type": "code",
   "execution_count": null,
   "id": "bb2c3093-f128-4de5-817e-8a0a8c975729",
   "metadata": {
    "tags": []
   },
   "outputs": [],
   "source": [
    "labels = list(df['label'].value_counts().sort_index().index)\n",
    "for l in labels:\n",
    "    df_to_plot = df[df['label']==l].groupby('year').mean()['current_value']\n",
    "    title='Label: '+str(l)+' Average current value per year published'\n",
    "\n",
    "    df_to_plot.plot()\n",
    "    plt.title(title, size=20)\n",
    "    plt.show()"
   ]
  },
  {
   "cell_type": "code",
   "execution_count": null,
   "id": "97ad0b93-5cb4-47a1-ab79-45f9f59bf9cb",
   "metadata": {},
   "outputs": [],
   "source": []
  }
 ],
 "metadata": {
  "kernelspec": {
   "display_name": "Python 3 (ipykernel)",
   "language": "python",
   "name": "python3"
  },
  "language_info": {
   "codemirror_mode": {
    "name": "ipython",
    "version": 3
   },
   "file_extension": ".py",
   "mimetype": "text/x-python",
   "name": "python",
   "nbconvert_exporter": "python",
   "pygments_lexer": "ipython3",
   "version": "3.9.7"
  }
 },
 "nbformat": 4,
 "nbformat_minor": 5
}
