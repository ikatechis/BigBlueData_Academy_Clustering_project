{
 "cells": [
  {
   "cell_type": "code",
   "execution_count": null,
   "id": "72fcbf44-7f26-4c5c-b93e-6f6a992cf890",
   "metadata": {},
   "outputs": [],
   "source": [
    "import pandas as pd\n",
    "import numpy as np\n",
    "import matplotlib.pyplot as plt\n",
    "import seaborn as sns\n",
    "\n",
    "from sklearn.preprocessing import StandardScaler\n",
    "from sklearn.cluster import AgglomerativeClustering\n",
    "from sklearn.cluster import KMeans\n",
    "from sklearn.metrics import  silhouette_score\n",
    "from sklearn import datasets\n",
    "from scipy.cluster.hierarchy import dendrogram, linkage\n",
    "from yellowbrick.cluster import SilhouetteVisualizer\n",
    "from yellowbrick.cluster import KElbowVisualizer\n",
    "\n",
    "pd.options.mode.chained_assignment = None\n",
    "pd.options.display.max_columns = 50\n",
    "pd.options.display.max_rows = 200"
   ]
  },
  {
   "cell_type": "code",
   "execution_count": null,
   "id": "831ce8e1-2e25-4f9c-a388-9ed494f55b1c",
   "metadata": {},
   "outputs": [],
   "source": [
    "data = pd.read_csv('../data/data_clean.csv', index_col=[0])"
   ]
  },
  {
   "cell_type": "code",
   "execution_count": null,
   "id": "12df4965-e20f-4470-bd4e-8dbe6526363a",
   "metadata": {},
   "outputs": [],
   "source": [
    "df = data.copy()\n",
    "df.dropna(inplace=True)"
   ]
  },
  {
   "cell_type": "code",
   "execution_count": null,
   "id": "80ae56e9-49d9-4cad-9f08-cdbc4781ea25",
   "metadata": {
    "tags": []
   },
   "outputs": [],
   "source": [
    "# true/false cols to 1/0\n",
    "df['variant'] = df['variant'].apply(int)\n",
    "df['first_appear_event'] = df['first_appear_event'].apply(int)\n",
    "df['death_event'] = df['death_event'].apply(int)\n",
    "df['origin_event'] = df['origin_event'].apply(int)"
   ]
  },
  {
   "cell_type": "code",
   "execution_count": null,
   "id": "a4f01d73-70a6-4ce7-9268-c49eada47f9f",
   "metadata": {},
   "outputs": [],
   "source": [
    "# create months_ago column\n",
    "df['months_ago'] = df['date'].apply(lambda x: (2022-int(x[:4]))*12+(1-int(x[5:7])))"
   ]
  },
  {
   "cell_type": "code",
   "execution_count": null,
   "id": "d0d99b31-cd56-4fc2-957c-4c7a8cf30ed8",
   "metadata": {},
   "outputs": [],
   "source": [
    "# create volume_type\n",
    "df['volume_type'] = df['volume'][df['volume']>'9']\n",
    "df['volume_type'] = df['volume_type'].fillna('ongoing')"
   ]
  },
  {
   "cell_type": "code",
   "execution_count": null,
   "id": "32186b3c-c419-4164-8a2c-9e4d821e4c7d",
   "metadata": {},
   "outputs": [],
   "source": [
    "# remove volume types\n",
    "df = df[~df['volume_type'].isin(['TPB/SC', 'HC', 'GN'])]"
   ]
  },
  {
   "cell_type": "code",
   "execution_count": null,
   "id": "9ae12b24-01fd-4314-b691-766e3077c1af",
   "metadata": {},
   "outputs": [],
   "source": [
    "# set '0' to string 'volume'\n",
    "df['volume'][df['volume']>'9'] = '0'\n",
    "df['volume'] = df['volume'].apply(int)"
   ]
  },
  {
   "cell_type": "code",
   "execution_count": null,
   "id": "40e0d302-ac64-4a98-b9a7-3ed6da28873f",
   "metadata": {},
   "outputs": [],
   "source": [
    "# drop cover price >9\n",
    "df = df[df['cover_price']<9]"
   ]
  },
  {
   "cell_type": "code",
   "execution_count": null,
   "id": "3d8e2120-2436-4435-b2aa-66150df093d4",
   "metadata": {},
   "outputs": [],
   "source": [
    "# drop years\n",
    "df['year'] = df['date'].str[:4].apply(int)\n",
    "df = df[df['year']>1935]\n",
    "df = df[df['year']!=2022]"
   ]
  },
  {
   "cell_type": "code",
   "execution_count": null,
   "id": "0ba3c9b6-163a-4aea-b327-7ec139e2ac79",
   "metadata": {
    "tags": []
   },
   "outputs": [],
   "source": [
    "# 0 cover price to year mean\n",
    "d = dict(df.groupby('year').mean()['cover_price'].sort_index())\n",
    "df['cover_price'][df['cover_price']==0] = df['year'].map(d)"
   ]
  },
  {
   "cell_type": "code",
   "execution_count": null,
   "id": "91de1a2a-0ee0-4368-bc87-2880fc69381f",
   "metadata": {},
   "outputs": [],
   "source": [
    "# create current_value/cover_price\n",
    "df['current_value'][df['current_value']==0] = df['cover_price']\n",
    "df['value_over_price'] = df['current_value']/df['cover_price']"
   ]
  },
  {
   "cell_type": "code",
   "execution_count": null,
   "id": "e2085de7-0743-4246-8415-5f3ed5676016",
   "metadata": {},
   "outputs": [],
   "source": [
    "# create pub_issues_total/pub_titles_total\n",
    "df['pub_issues_per_title'] = df['pub_issues_total']/df['pub_titles_total']"
   ]
  },
  {
   "cell_type": "code",
   "execution_count": null,
   "id": "98d6eef2-078a-4453-b7dd-6dea017ab1e8",
   "metadata": {},
   "outputs": [],
   "source": [
    "# one hit encoding of volume_type, special\n",
    "df = df.join(pd.get_dummies(df['volume_type'], prefix='volume_type'))\n",
    "df = df.join(pd.get_dummies(df['special'], prefix='special'))"
   ]
  },
  {
   "cell_type": "code",
   "execution_count": null,
   "id": "ef32c3a0-f181-4d83-96d8-ae32a2126a46",
   "metadata": {
    "tags": []
   },
   "outputs": [],
   "source": [
    "# drop unwanted columns\n",
    "df = df.sample(10000)\n",
    "df_keep = df.drop(columns=['year', 'cover_price', 'current_value', 'pub_titles_total', 'pub_name', 'title', 'title_id', 'issues_total', 'volume_type', 'special', 'date'])"
   ]
  },
  {
   "cell_type": "code",
   "execution_count": null,
   "id": "ab31bc41-406a-4970-a8bc-079cc89f3ebb",
   "metadata": {
    "tags": []
   },
   "outputs": [],
   "source": [
    "# create X scaled\n",
    "ss = StandardScaler()\n",
    "ss.fit(df_keep)\n",
    "X = ss.transform(df_keep)"
   ]
  },
  {
   "cell_type": "code",
   "execution_count": null,
   "id": "c175889e-b687-45e0-a8a1-6ce4ca92f8bf",
   "metadata": {},
   "outputs": [],
   "source": [
    "model_kmeans = KMeans(n_clusters=4, random_state=526).fit(X)"
   ]
  },
  {
   "cell_type": "code",
   "execution_count": null,
   "id": "b4ae5767-1e28-4904-8d7a-0ba4e4bd2575",
   "metadata": {
    "tags": []
   },
   "outputs": [],
   "source": [
    "silhouette_score(X, model_kmeans.labels_)"
   ]
  },
  {
   "cell_type": "code",
   "execution_count": null,
   "id": "1a7c3750-2ffa-4874-bab3-c8e125ac3e10",
   "metadata": {
    "tags": []
   },
   "outputs": [],
   "source": [
    "visualizer = SilhouetteVisualizer(model_kmeans, colors='yellowbrick')\n",
    "visualizer.fit(X)\n",
    "visualizer.poof()"
   ]
  },
  {
   "cell_type": "code",
   "execution_count": null,
   "id": "4066befa-b882-497f-88f1-bc30598d21b6",
   "metadata": {},
   "outputs": [],
   "source": [
    "visualizer = KElbowVisualizer(model_kmeans, k=(2,10))\n",
    "visualizer.fit(X)\n",
    "visualizer.show()"
   ]
  },
  {
   "cell_type": "code",
   "execution_count": null,
   "id": "d8141a24-8492-4a74-9070-b809dd2f70b1",
   "metadata": {
    "tags": []
   },
   "outputs": [],
   "source": [
    "# put labels on dataset\n",
    "y = model_kmeans.labels_\n",
    "df['label'] = y"
   ]
  },
  {
   "cell_type": "code",
   "execution_count": null,
   "id": "e783ccae-9b51-42d9-8820-78219d611c0e",
   "metadata": {},
   "outputs": [],
   "source": [
    "df['label'].value_counts().sort_index()"
   ]
  },
  {
   "cell_type": "code",
   "execution_count": null,
   "id": "e36225df-b5eb-4303-9d03-cb4f20cddba3",
   "metadata": {},
   "outputs": [],
   "source": [
    "df.groupby('label').mean()"
   ]
  },
  {
   "cell_type": "code",
   "execution_count": null,
   "id": "8f1dabec-ad21-49a9-8f1b-db767ff7be33",
   "metadata": {},
   "outputs": [],
   "source": [
    "'''\n",
    "\n",
    "'0' = high issue_nr , low variant , no volume , low current_value , low searched, low owned , no events , old , magazine\n",
    "'1' = low issue_nr , no volume , low current_value , limited_series\n",
    "'2' = higher volume , medium current_value , low searched , low owned , medium old , volume type special+ongoing  \n",
    "'3' = high variant , high cover price , low owned , newer , SPECIAL\n",
    "'4' = high current_value , high searched , high owned , high events , high pub_titles_total+issues\n",
    "\n",
    "\n",
    "'0' = old unpopular magazines\n",
    "'1' = unpopular limited\n",
    "'2' = medium \n",
    "'3' = newer variant of / special\n",
    "'4' = popular, high value, events\n",
    "\n",
    "\n",
    "'''"
   ]
  },
  {
   "cell_type": "code",
   "execution_count": null,
   "id": "b9d7cb6b-5a0f-421a-93d2-cfc31585ed78",
   "metadata": {},
   "outputs": [],
   "source": []
  }
 ],
 "metadata": {
  "kernelspec": {
   "display_name": "Python 3 (ipykernel)",
   "language": "python",
   "name": "python3"
  },
  "language_info": {
   "codemirror_mode": {
    "name": "ipython",
    "version": 3
   },
   "file_extension": ".py",
   "mimetype": "text/x-python",
   "name": "python",
   "nbconvert_exporter": "python",
   "pygments_lexer": "ipython3",
   "version": "3.9.7"
  }
 },
 "nbformat": 4,
 "nbformat_minor": 5
}
