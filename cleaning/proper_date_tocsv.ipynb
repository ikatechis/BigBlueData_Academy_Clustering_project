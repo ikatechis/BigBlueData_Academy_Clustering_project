{
 "cells": [
  {
   "cell_type": "code",
   "execution_count": null,
   "id": "72fcbf44-7f26-4c5c-b93e-6f6a992cf890",
   "metadata": {},
   "outputs": [],
   "source": [
    "import pandas as pd\n",
    "import numpy as np\n",
    "import matplotlib.pyplot as plt\n",
    "import math\n",
    "import re"
   ]
  },
  {
   "cell_type": "code",
   "execution_count": null,
   "id": "af30753f-563d-4b44-bb70-745ae310b16a",
   "metadata": {},
   "outputs": [],
   "source": [
    "pd.options.display.max_columns = 50\n",
    "pd.options.display.max_rows = 200"
   ]
  },
  {
   "cell_type": "code",
   "execution_count": null,
   "id": "c2eb1a40-af50-45dd-9f65-6d029f1d03fa",
   "metadata": {},
   "outputs": [],
   "source": [
    "# Import the os module\n",
    "import os\n",
    "\n",
    "# Get the current working directory\n",
    "cwd = os.getcwd()\n",
    "\n",
    "# Print the current working directory\n",
    "print(\"Current working directory: {0}\".format(cwd))"
   ]
  },
  {
   "cell_type": "code",
   "execution_count": null,
   "id": "831ce8e1-2e25-4f9c-a388-9ed494f55b1c",
   "metadata": {},
   "outputs": [],
   "source": [
    "data = pd.read_parquet('../data/all_data.parquet')"
   ]
  },
  {
   "cell_type": "code",
   "execution_count": null,
   "id": "e9eefea7-ce00-401c-a3fa-04d109ee8a25",
   "metadata": {},
   "outputs": [],
   "source": [
    "data.info(memory_usage='deep')"
   ]
  },
  {
   "cell_type": "code",
   "execution_count": null,
   "id": "074df533-8e65-4ffd-bc04-f070a237c92b",
   "metadata": {},
   "outputs": [],
   "source": [
    "titles = pd.read_csv('../data/titles_list_data.csv', low_memory=False, index_col=[0])"
   ]
  },
  {
   "cell_type": "code",
   "execution_count": null,
   "id": "61127103-a26c-4e8f-b8d5-e4c1fc6d8ffd",
   "metadata": {},
   "outputs": [],
   "source": [
    "titles.title.duplicated().value_counts()\n",
    "# there are identical titles so we have to connect them with a unique id for convenience"
   ]
  },
  {
   "cell_type": "code",
   "execution_count": null,
   "id": "45631a8b-c015-4d30-8ea0-fa90f87efae3",
   "metadata": {},
   "outputs": [],
   "source": [
    "data.issue_link[0]"
   ]
  },
  {
   "cell_type": "code",
   "execution_count": null,
   "id": "965059cf-942a-472b-aeb9-1e404e6ff0bc",
   "metadata": {},
   "outputs": [],
   "source": [
    "# extract titles' and issues' unique ids\n",
    "data['title_id'] = data.title_link.str.extract(pat=r'/series.(.+\\d)/\\d.+')\n",
    "data['issue_id'] = data.issue_link.str.extract(pat=r'/series/.+\\d/(.+\\d)/.+')"
   ]
  },
  {
   "cell_type": "code",
   "execution_count": null,
   "id": "9ab08792-635f-4e2d-b7a1-c14441d6b962",
   "metadata": {},
   "outputs": [],
   "source": [
    "# keep relevant columns\n",
    "df = data[['pub_name', 'title', 'title_id', 'issue', 'variant_of', 'cover_date', \n",
    "           'years', 'cover_price', 'current_value', 'searched', \n",
    "          'owned', 'volume', 'issues_total',\n",
    "           'pub_titles_total', 'pub_issues_total',\n",
    "           'contributors_names', 'contributors_roles', 'characters']]"
   ]
  },
  {
   "cell_type": "code",
   "execution_count": null,
   "id": "240ee1c1-e380-42bf-b4c0-a7103a226be3",
   "metadata": {},
   "outputs": [],
   "source": [
    "# turn prices into numerical\n",
    "df.loc[:, 'cover_price'] = df.loc[:, 'cover_price'].str.replace('[$,]', '', regex=True)\n",
    "df.loc[:, 'cover_price'] = df.loc[:, 'cover_price'].str.replace('Free', '0', regex=False)\n",
    "df.loc[:, 'cover_price'] = df.loc[:, 'cover_price'].apply(eval)"
   ]
  },
  {
   "cell_type": "code",
   "execution_count": null,
   "id": "af9f07e0-16aa-4290-9913-394d78f5fa00",
   "metadata": {},
   "outputs": [],
   "source": [
    "df.loc[:, 'current_value'] = df.loc[:, 'current_value'].str.replace('[$,]', '', regex=True)\n",
    "df.loc[:, 'current_value'] = df.loc[:, 'current_value'].str.replace('Free', '0', regex=False)\n",
    "df.loc[:, 'current_value'] = df.loc[:, 'current_value'].apply(eval)"
   ]
  },
  {
   "cell_type": "code",
   "execution_count": null,
   "id": "0f614f44-9af7-42e9-ad71-912c11815bc2",
   "metadata": {},
   "outputs": [],
   "source": [
    "# Many issues with cover price 0 have high current value so we keep them\n",
    "df[df.cover_price == 0].sort_values('current_value', ascending=False).head(5)"
   ]
  },
  {
   "cell_type": "markdown",
   "id": "6b362899-5aa9-4f31-bd60-28f5cc5f04ce",
   "metadata": {},
   "source": [
    "### `issue` column\n",
    "\n",
    "There are several types of issues as indicated by their numbering and many strange numberings:\n",
    "\n",
    "* Simple ascending numbering # 1-...\n",
    "* 'Ashcan' Issues which are traditionally used to promote a new series (see [wiki](https://en.wikipedia.org/wiki/Ashcan_comic)). Ashcan comics can be quite rare and valuable, especially from the [Golden Age](https://en.wikipedia.org/wiki/Golden_Age_of_Comic_Books) (30s-50s)\n",
    "* Issues with `nn` meaning 'non-numbered'. Typically 0th issues or one-shots\n",
    "* Issues with numbering of the format: # (number)(variant-cover/ special ed./ convention ed. etc.): Normally these issues should be indicated as \"variant of\" (issue number) in the `variant_of` column\n",
    "* Of \"Vol ** # **\" format (where ** indicated a number). i.e. two enumerations are indicated, one for volume, one for issue number\n",
    "* Instead of issue number a date is given e.g. \"Spring 2007\" or simply \"1989\"\n",
    "* Numbering which includes letters e.g. \"C-2\" or \"x\"\n",
    "* Just the name of the protagonist or in general something explanatory e.g. \"Batwoman\"\n",
    "* The print run is indicated e.g. '# 2 - 2nd print'\n"
   ]
  },
  {
   "cell_type": "code",
   "execution_count": null,
   "id": "1817cf61-87c4-47e4-9a9a-ba45e4081606",
   "metadata": {},
   "outputs": [],
   "source": [
    "# Let's get rid of "
   ]
  },
  {
   "cell_type": "code",
   "execution_count": null,
   "id": "f7c3438a-515d-4af3-8b34-c46ce473f0df",
   "metadata": {},
   "outputs": [],
   "source": [
    "df.loc[:, 'proper_date'] = df.loc[:, 'cover_date']"
   ]
  },
  {
   "cell_type": "code",
   "execution_count": null,
   "id": "ae6cfbd8-56b6-4e0a-8178-ac1e3cd95010",
   "metadata": {},
   "outputs": [],
   "source": [
    "df.loc[:, 'proper_date'] = df.loc[:, 'proper_date'].str.replace('Winter ', '', regex=False)\n",
    "df.loc[:, 'proper_date'] = df.loc[:, 'proper_date'].str.replace('Early ', '', regex=False)\n",
    "df.loc[:, 'proper_date'] = df.loc[:, 'proper_date'].str.replace('Spring ', '', regex=False)\n",
    "df.loc[:, 'proper_date'] = df.loc[:, 'proper_date'].str.replace('Holiday ', '', regex=False)\n",
    "df.loc[:, 'proper_date'] = df.loc[:, 'proper_date'].str.replace('Summer ', '', regex=False)\n",
    "df.loc[:, 'proper_date'] = df.loc[:, 'proper_date'].str.replace('Late ', '', regex=False)\n",
    "df.loc[:, 'proper_date'] = df.loc[:, 'proper_date'].str.replace('Fall ', '', regex=False)\n",
    "df.loc[:, 'proper_date'] = df.loc[:, 'proper_date'].str.replace('Mid ', '', regex=False)"
   ]
  },
  {
   "cell_type": "code",
   "execution_count": null,
   "id": "66318e9c-4f3c-4d00-bce6-0b213208bcad",
   "metadata": {},
   "outputs": [],
   "source": [
    "df.loc[df['proper_date'] == 'Spring','proper_date'] = np.nan\n",
    "df.loc[df['proper_date'] == 'Unda','proper_date'] = np.nan\n",
    "df.loc[df['proper_date'] == 'Unkn','proper_date'] = np.nan\n",
    "df.loc[df['proper_date'] == 'Winter','proper_date'] = np.nan\n",
    "df.loc[df['proper_date'] == 'Early','proper_date'] = np.nan\n",
    "df.loc[df['proper_date'] == 'Late','proper_date'] = np.nan\n",
    "df.loc[df['proper_date'] == 'No D','proper_date'] = np.nan\n",
    "df.loc[df['proper_date'] == '199','proper_date'] = '1990.1'"
   ]
  },
  {
   "cell_type": "code",
   "execution_count": null,
   "id": "0f1a7830-d8c9-4466-94f2-21d09681d230",
   "metadata": {
    "tags": []
   },
   "outputs": [],
   "source": [
    "# convert yy to yyyy\n",
    "\n",
    "for i in range(30,100):\n",
    "    oldvalue = \"'\"+str(i)\n",
    "    newvalue = '19'+str(i)\n",
    "    df.loc[:, 'proper_date'] = df.loc[:, 'proper_date'].str.replace(oldvalue, newvalue, regex=False)\n",
    "\n",
    "for i in range(0,10):\n",
    "    oldvalue = \"'0\"+str(i)\n",
    "    newvalue = '200'+str(i)\n",
    "    df.loc[:, 'proper_date'] = df.loc[:, 'proper_date'].str.replace(oldvalue, newvalue, regex=False)\n",
    "    \n",
    "for i in range(10,23):\n",
    "    oldvalue = \"'\"+str(i)\n",
    "    newvalue = '20'+str(i)\n",
    "    df.loc[:, 'proper_date'] = df.loc[:, 'proper_date'].str.replace(oldvalue, newvalue, regex=False)"
   ]
  },
  {
   "cell_type": "code",
   "execution_count": null,
   "id": "9d09d1fc-ab99-4af8-9c5f-408572c5b732",
   "metadata": {},
   "outputs": [],
   "source": [
    "# save checkpoint\n",
    "cp = df['proper_date'].copy()"
   ]
  },
  {
   "cell_type": "code",
   "execution_count": null,
   "id": "0062de7f-bad3-482e-923a-7d943e3cd5c5",
   "metadata": {},
   "outputs": [],
   "source": [
    "# load checkpoint\n",
    "df['proper_date'] = cp.copy()"
   ]
  },
  {
   "cell_type": "code",
   "execution_count": null,
   "id": "4eed2010-02a6-4b68-937f-3ca80ed8f6b9",
   "metadata": {},
   "outputs": [],
   "source": [
    "df2 = df.loc[:, ['issue','title_id','volume','years']][df['proper_date'].isnull()].copy()"
   ]
  },
  {
   "cell_type": "code",
   "execution_count": null,
   "id": "aef3182a-7ee3-4759-b064-f0807d35ee65",
   "metadata": {},
   "outputs": [],
   "source": [
    "df2.loc[:, 'years'] = df2.loc[:, 'years'].str.replace('Present', '2022', regex=False)\n",
    "df2.loc[:, 'years'] = df2.loc[:, 'years'].str.replace('present', '2022', regex=False)\n",
    "df2.loc[:, 'years'] = df2.loc[:, 'years'].str.replace(\"'\", '', regex=False)\n",
    "df2.loc[:, 'years'] = df2.loc[:, 'years'].str.replace(\"s\", '', regex=False)\n",
    "\n",
    "df2.loc[df2['years'] == 'No Date','years'] = np.nan\n",
    "df2.loc[df2['years'] == 'Undated','years'] = np.nan\n",
    "df2.loc[df2['years'] == 'Unknown','years'] = np.nan\n",
    "df2.loc[df2['years'] == 'Late 1960','years'] = '1968'\n",
    "df2.loc[df2['years'] == '199','years'] = '1990'\n",
    "df2.loc[df2['years'] == '1986-187','years'] = '1986-1987'"
   ]
  },
  {
   "cell_type": "code",
   "execution_count": null,
   "id": "5778017c-3ec7-4a74-8bca-5bd4d867f972",
   "metadata": {},
   "outputs": [],
   "source": [
    "df2.loc[:, 'start_year'] = df2.loc[:, 'years'].str[:4]\n",
    "df2.loc[:, 'end_year'] = df2.loc[:, 'years'].str[-4:]"
   ]
  },
  {
   "cell_type": "code",
   "execution_count": null,
   "id": "ac3f2aa1-7ed9-484f-a05c-2801641b3273",
   "metadata": {
    "tags": []
   },
   "outputs": [],
   "source": [
    "df2['issue'].fillna('1', inplace=True)\n",
    "df2['volume'].fillna('1', inplace=True)"
   ]
  },
  {
   "cell_type": "code",
   "execution_count": null,
   "id": "a1b78f8d-fb36-45d9-9f27-e15dfbf8a81f",
   "metadata": {},
   "outputs": [],
   "source": [
    "df2.loc[:, 'issue_list'] = df2.loc[:, 'volume'] + df2.loc[:, 'issue']"
   ]
  },
  {
   "cell_type": "code",
   "execution_count": null,
   "id": "f76a9f07-68c8-4a3c-80b0-93bcba4f2417",
   "metadata": {
    "tags": []
   },
   "outputs": [],
   "source": [
    "df2.loc[:, 'issue_list'] = df2.loc[:, 'issue_list'].apply(lambda x: re.findall('\\d+', x))"
   ]
  },
  {
   "cell_type": "code",
   "execution_count": null,
   "id": "5a097628-3476-405a-a821-b4ee2a541072",
   "metadata": {
    "tags": []
   },
   "outputs": [],
   "source": [
    "df2.loc[:, 'issue_0'] = '1'+df2.loc[:, 'issue_list'].str[0]\n",
    "df2.loc[:, 'issue_1'] = '1'+df2.loc[:, 'issue_list'].str[1]\n",
    "df2.loc[:, 'issue_2'] = '1'+df2.loc[:, 'issue_list'].str[2]\n",
    "df2.loc[:, 'issue_3'] = '1'+df2.loc[:, 'issue_list'].str[3]"
   ]
  },
  {
   "cell_type": "code",
   "execution_count": null,
   "id": "5bd0c88b-480e-4fcc-b15a-dfe94fed16fe",
   "metadata": {},
   "outputs": [],
   "source": [
    "df2.loc[:, 'issue_0'].fillna('1', inplace=True)\n",
    "df2.loc[:, 'issue_1'].fillna('1', inplace=True)\n",
    "df2.loc[:, 'issue_2'].fillna('1', inplace=True)\n",
    "df2.loc[:, 'issue_3'].fillna('1', inplace=True)"
   ]
  },
  {
   "cell_type": "code",
   "execution_count": null,
   "id": "f8d37ad4-6b47-4ee3-bff6-f86fbb3081d2",
   "metadata": {
    "tags": []
   },
   "outputs": [],
   "source": [
    "df2.loc[:, 'issue_0'] = df2.loc[:, 'issue_0'].apply(eval)\n",
    "df2.loc[:, 'issue_1'] = df2.loc[:, 'issue_1'].apply(eval)\n",
    "df2.loc[:, 'issue_2'] = df2.loc[:, 'issue_2'].apply(eval)\n",
    "df2.loc[:, 'issue_3'] = df2.loc[:, 'issue_3'].apply(eval)"
   ]
  },
  {
   "cell_type": "code",
   "execution_count": null,
   "id": "234e262e-806f-403e-9576-f49d46ac027e",
   "metadata": {},
   "outputs": [],
   "source": [
    "df2.loc[:, 'order'] = df2.loc[:, 'issue_0']*1000000000+df2.loc[:, 'issue_1']*1000000+df2.loc[:, 'issue_2']*1000+df2.loc[:, 'issue_3']"
   ]
  },
  {
   "cell_type": "code",
   "execution_count": null,
   "id": "16f17255-777e-4172-a394-8ff483391ad5",
   "metadata": {},
   "outputs": [],
   "source": [
    "title_ids = list(df2.loc[:, 'title_id'].value_counts().index)"
   ]
  },
  {
   "cell_type": "code",
   "execution_count": null,
   "id": "c2bfc7a3-e630-484f-b9b8-d8b87348afe5",
   "metadata": {},
   "outputs": [],
   "source": [
    "d={}\n",
    "for t in title_ids:\n",
    "    L = list(df2.loc[:][df2['title_id']==t].sort_values('order')['order'])\n",
    "    if len(L)>1:\n",
    "        d.update({str(v)+'-'+t: i/(len(L)-1) for i, v in enumerate(L)})\n",
    "    else:\n",
    "        d.update({str(L[0])+'-'+t : 0.0})"
   ]
  },
  {
   "cell_type": "code",
   "execution_count": null,
   "id": "2aeb7286-d1bd-4401-b6fb-9da351075693",
   "metadata": {},
   "outputs": [],
   "source": [
    "df2.loc[:, 'multiplier'] = df2.loc[:, 'order'].apply(str)+'-'+df2.loc[:, 'title_id']"
   ]
  },
  {
   "cell_type": "code",
   "execution_count": null,
   "id": "38ed3ef7-faa3-410f-b41a-247f78059d2d",
   "metadata": {},
   "outputs": [],
   "source": [
    "df2['multiplier'].replace(d, inplace=True)"
   ]
  },
  {
   "cell_type": "code",
   "execution_count": null,
   "id": "90bcfd55-8821-4d1a-a5a1-2559568d7a95",
   "metadata": {
    "tags": []
   },
   "outputs": [],
   "source": [
    "df2.loc[:, 'start_year'].fillna('0', inplace=True)\n",
    "df2.loc[:, 'end_year'].fillna('0', inplace=True)"
   ]
  },
  {
   "cell_type": "code",
   "execution_count": null,
   "id": "840549ba-c021-4fbd-a4b0-277f113cbf61",
   "metadata": {},
   "outputs": [],
   "source": [
    "df2.loc[:, 'start_year'] = df2.loc[:, 'start_year'].apply(eval)\n",
    "df2.loc[:, 'end_year'] = df2.loc[:, 'end_year'].apply(eval)"
   ]
  },
  {
   "cell_type": "code",
   "execution_count": null,
   "id": "c0efce34-eb47-490d-9d9b-198991f5c321",
   "metadata": {},
   "outputs": [],
   "source": [
    "df2['est_date'] = df2['start_year']+(df2['end_year']-df2['start_year'])*df2['multiplier']"
   ]
  },
  {
   "cell_type": "code",
   "execution_count": null,
   "id": "5e540dbe-ad21-45d2-a59e-11f99e1118ba",
   "metadata": {},
   "outputs": [],
   "source": [
    "def year_func(a):\n",
    "    return(str(int(math.floor(a)))+'.'+str(math.floor((a%1)*12)+1)+'.1')"
   ]
  },
  {
   "cell_type": "code",
   "execution_count": null,
   "id": "460fff98-eb77-4b4a-a438-8f381bc3825f",
   "metadata": {},
   "outputs": [],
   "source": [
    "df2.loc[:, 'est_date'] = df2.loc[:, 'est_date'].apply(year_func)"
   ]
  },
  {
   "cell_type": "code",
   "execution_count": null,
   "id": "ff99d95f-04d9-4e5c-9d99-1b5c12252c62",
   "metadata": {},
   "outputs": [],
   "source": [
    "df.loc[:, 'proper_date'][df['proper_date'].isnull()] = df2['est_date']"
   ]
  },
  {
   "cell_type": "code",
   "execution_count": null,
   "id": "171c7781-e22b-44a8-b1c5-78ecc88f4b5a",
   "metadata": {},
   "outputs": [],
   "source": [
    "df.loc[:, 'proper_date'] = pd.to_datetime(df['proper_date'], errors='coerce')"
   ]
  },
  {
   "cell_type": "code",
   "execution_count": null,
   "id": "9a52a779-86d9-4ab1-9603-d1b84a4c4ba5",
   "metadata": {},
   "outputs": [],
   "source": [
    "df.loc[:, 'proper_date'].to_csv('../data/proper_date.csv', index=False)"
   ]
  }
 ],
 "metadata": {
  "kernelspec": {
   "display_name": "Python 3 (ipykernel)",
   "language": "python",
   "name": "python3"
  },
  "language_info": {
   "codemirror_mode": {
    "name": "ipython",
    "version": 3
   },
   "file_extension": ".py",
   "mimetype": "text/x-python",
   "name": "python",
   "nbconvert_exporter": "python",
   "pygments_lexer": "ipython3",
   "version": "3.9.7"
  }
 },
 "nbformat": 4,
 "nbformat_minor": 5
}
