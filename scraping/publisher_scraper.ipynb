{
 "cells": [
  {
   "cell_type": "code",
   "execution_count": 1,
   "id": "a5023188-93d3-4be9-bee6-485cb46f5c4c",
   "metadata": {},
   "outputs": [],
   "source": [
    "import pandas as pd\n",
    "import matplotlib.pyplot as plt\n",
    "import seaborn as sns\n",
    "from bs4 import BeautifulSoup\n",
    "from datetime import datetime\n",
    "import numpy as np\n",
    "from time import sleep\n",
    "import requests\n",
    "from tqdm.notebook import tqdm\n",
    "import time\n",
    "import random"
   ]
  },
  {
   "cell_type": "code",
   "execution_count": 2,
   "id": "c2326f0a-05f0-47c4-ab52-cb959c7e92e0",
   "metadata": {},
   "outputs": [],
   "source": [
    "pd.options.display.max_rows = 100"
   ]
  },
  {
   "cell_type": "markdown",
   "id": "c45e4e76-7665-459b-901a-71f5c3f92f11",
   "metadata": {},
   "source": [
    "#### Website to scrape: https://comicbookrealm.com/publisher/3/"
   ]
  },
  {
   "cell_type": "code",
   "execution_count": 2,
   "id": "22fefd1f-5678-4954-8e78-c3dbdc0e1f88",
   "metadata": {},
   "outputs": [],
   "source": [
    "def get_publisher(num):\n",
    "    link = f'https://comicbookrealm.com/publisher/{num}/'\n",
    "    return link"
   ]
  },
  {
   "cell_type": "code",
   "execution_count": 6,
   "id": "a86e5606-e28b-434b-8810-3426f85cbf64",
   "metadata": {},
   "outputs": [
    {
     "data": {
      "text/plain": [
       "200"
      ]
     },
     "execution_count": 6,
     "metadata": {},
     "output_type": "execute_result"
    }
   ],
   "source": [
    "headers = {'User-agent':''}\n",
    "response = requests.get(get_publisher(3), headers = headers)\n",
    "response.status_code"
   ]
  },
  {
   "cell_type": "code",
   "execution_count": 7,
   "id": "e7b803e4-a599-4239-a8dd-991f5ad323b8",
   "metadata": {},
   "outputs": [],
   "source": [
    "soup = BeautifulSoup(response.content, 'html.parser')"
   ]
  },
  {
   "cell_type": "code",
   "execution_count": 10,
   "id": "f64adc42-e1c4-4b53-b1ed-81a592bdc120",
   "metadata": {},
   "outputs": [],
   "source": [
    "pub_name = soup.find('div', class_='module').find('h2').text"
   ]
  },
  {
   "cell_type": "code",
   "execution_count": 47,
   "id": "ff3ffbd9-7f24-4b50-a6c6-ca6a6b5381cf",
   "metadata": {},
   "outputs": [],
   "source": [
    "pub_list = (soup.find('div', class_='publisher-list')\n",
    " .find('div', class_='publisher-list')\n",
    " .find_all('a')\n",
    ")\n",
    "pub_list = [{'link': a['href'], 'info': a['title'], 'letter': a.text} for a in pub_list]"
   ]
  },
  {
   "cell_type": "code",
   "execution_count": 23,
   "id": "6cb2167e-4efc-4676-b4ad-2799d509f0ff",
   "metadata": {},
   "outputs": [],
   "source": [
    "pub_data_labels = [td.text for td in soup.find_all('td', class_='item')]"
   ]
  },
  {
   "cell_type": "code",
   "execution_count": 27,
   "id": "eb41d2ac-e5de-4b35-939e-d8fd4782fbc2",
   "metadata": {},
   "outputs": [],
   "source": [
    "pub_data_items = [td.text for td in soup.find_all('td', class_='data')][:len(pub_data_labels)]"
   ]
  },
  {
   "cell_type": "code",
   "execution_count": 50,
   "id": "a9132e78-3e4d-455a-9e0a-e2078ce3b408",
   "metadata": {},
   "outputs": [],
   "source": [
    "pub_data = {label: item for label, item in zip(pub_data_labels, pub_data_items)}"
   ]
  },
  {
   "cell_type": "code",
   "execution_count": 51,
   "id": "c4e7ba57-7b4a-4dc3-942f-3352ca652e38",
   "metadata": {},
   "outputs": [
    {
     "data": {
      "text/plain": [
       "{'Titles Tracking': '2,303',\n",
       " 'Comics Tracking': '21,472',\n",
       " 'Most Valuable': 'Spawn  Issue #185e $4,200.00',\n",
       " 'Most Owned': '6463 - Spawn Issue #1 $30.00',\n",
       " 'Most Wanted': '152 - Walking Dead Issue #1 $1,800.00',\n",
       " 'New Additions': ''}"
      ]
     },
     "execution_count": 51,
     "metadata": {},
     "output_type": "execute_result"
    }
   ],
   "source": [
    "pub_data"
   ]
  },
  {
   "cell_type": "code",
   "execution_count": 45,
   "id": "1e4adf2d-5e7e-40cd-8459-01b9bd9d0664",
   "metadata": {},
   "outputs": [],
   "source": [
    "logo = soup.find('td', class_='logo required').find('img')\n",
    "logo = {'src': logo['src'], 'title': logo['alt']}"
   ]
  },
  {
   "cell_type": "code",
   "execution_count": 44,
   "id": "bf6b85fe-05a9-4db7-9a17-8a0e897c3261",
   "metadata": {},
   "outputs": [
    {
     "data": {
      "text/plain": [
       "{'src': '/images/publishers/images/3.gif', 'descr': \"Image Comics's logo\"}"
      ]
     },
     "execution_count": 44,
     "metadata": {},
     "output_type": "execute_result"
    }
   ],
   "source": [
    "logo"
   ]
  },
  {
   "cell_type": "code",
   "execution_count": 3,
   "id": "33e314a5-abc3-4bb7-890f-c2bcfc0b552f",
   "metadata": {},
   "outputs": [],
   "source": [
    "def publisher_scraper(id=3):\n",
    "    \n",
    "    headers = {'User-agent': ''}\n",
    "    response = requests.get(get_publisher(id), headers = headers)\n",
    "    soup = BeautifulSoup(response.content, 'html.parser')\n",
    "    name = soup.find('div', class_='module').find('h2').text\n",
    "    labels = [td.text for td in soup.find_all('td', class_='item')]\n",
    "    items = [td.text for td in soup.find_all('td', class_='data')][:len(labels)]\n",
    "    # data = {label: item for label, item in zip(data_labels, data_items)}\n",
    "    \n",
    "    if name == '' or items[0] == '0':\n",
    "        # no publisher data to scrape\n",
    "        return False    \n",
    "    \n",
    "    title_lst = (soup.find('div', class_='publisher-list')\n",
    "                 .find('div', class_='publisher-list')\n",
    "                 .find_all('a')\n",
    "                )\n",
    "    title_lst = [[a['href'], a['title'], a.text.strip()]for a in title_lst]\n",
    "    try:\n",
    "        logo = soup.find('td', class_='logo required').find('img')\n",
    "        logo = logo['src']\n",
    "    except TypeError:\n",
    "        logo = 'not provided'\n",
    "    \n",
    "\n",
    "    data_lst = [id, name, logo]\n",
    "    data_lst.extend(items)\n",
    "    data_lst.append(title_lst)\n",
    "    \n",
    "    return data_lst"
   ]
  },
  {
   "cell_type": "code",
   "execution_count": 4,
   "id": "40a30c90-147b-4a1f-be0b-2ab2052f6f50",
   "metadata": {},
   "outputs": [
    {
     "data": {
      "application/vnd.jupyter.widget-view+json": {
       "model_id": "c474b94d30c24493b8a4649408b1d094",
       "version_major": 2,
       "version_minor": 0
      },
      "text/plain": [
       "  0%|          | 0/9999 [00:00<?, ?it/s]"
      ]
     },
     "metadata": {},
     "output_type": "display_data"
    }
   ],
   "source": [
    "\n",
    "publishers = []\n",
    "for i in tqdm(range(1, 10000)):\n",
    "\n",
    "    res = publisher_scraper(id=i)\n",
    "    if not res:\n",
    "        continue\n",
    "    else:\n",
    "        publishers.append(res)\n",
    "    time.sleep(0.5+ random.random())"
   ]
  },
  {
   "cell_type": "code",
   "execution_count": 5,
   "id": "415220f8-9fca-4286-82ab-7361d8cf74ee",
   "metadata": {},
   "outputs": [],
   "source": [
    "df = pd.DataFrame(publishers, columns=['id', 'name', 'logo_link', 'titles_tracking', 'comics_tracking', \n",
    "                           'most_valuable', 'most_owned', 'most_wanted', \n",
    "                           'new_additions', 'titles_AZ'])"
   ]
  },
  {
   "cell_type": "code",
   "execution_count": 7,
   "id": "ec303de0-3640-4188-8f7c-dbf80da0c060",
   "metadata": {},
   "outputs": [],
   "source": [
    "df.to_csv('publishers_data.csv')"
   ]
  },
  {
   "cell_type": "code",
   "execution_count": 8,
   "id": "d3ce6886-c244-4808-835e-0271fcef062f",
   "metadata": {},
   "outputs": [
    {
     "name": "stdout",
     "output_type": "stream",
     "text": [
      "<class 'pandas.core.frame.DataFrame'>\n",
      "RangeIndex: 6153 entries, 0 to 6152\n",
      "Data columns (total 10 columns):\n",
      " #   Column           Non-Null Count  Dtype \n",
      "---  ------           --------------  ----- \n",
      " 0   id               6153 non-null   int64 \n",
      " 1   name             6153 non-null   object\n",
      " 2   logo_link        6153 non-null   object\n",
      " 3   titles_tracking  6153 non-null   object\n",
      " 4   comics_tracking  6153 non-null   object\n",
      " 5   most_valuable    6153 non-null   object\n",
      " 6   most_owned       6153 non-null   object\n",
      " 7   most_wanted      6153 non-null   object\n",
      " 8   new_additions    6153 non-null   object\n",
      " 9   titles_AZ        6153 non-null   object\n",
      "dtypes: int64(1), object(9)\n",
      "memory usage: 3.9 MB\n"
     ]
    }
   ],
   "source": [
    "df.info(memory_usage='deep')"
   ]
  },
  {
   "cell_type": "code",
   "execution_count": null,
   "id": "9c125463-426f-4bfc-9ad4-ade0c8e12f76",
   "metadata": {},
   "outputs": [],
   "source": []
  }
 ],
 "metadata": {
  "kernelspec": {
   "display_name": "Python 3 (ipykernel)",
   "language": "python",
   "name": "python3"
  },
  "language_info": {
   "codemirror_mode": {
    "name": "ipython",
    "version": 3
   },
   "file_extension": ".py",
   "mimetype": "text/x-python",
   "name": "python",
   "nbconvert_exporter": "python",
   "pygments_lexer": "ipython3",
   "version": "3.9.7"
  }
 },
 "nbformat": 4,
 "nbformat_minor": 5
}
