{
 "cells": [
  {
   "cell_type": "markdown",
   "id": "69eceade-182f-4646-8399-76f1f0a8a2b9",
   "metadata": {},
   "source": [
    "### Comic Book list Scraper from Publisher A-Z list"
   ]
  },
  {
   "cell_type": "code",
   "execution_count": 1,
   "id": "636c6cb5-18e4-4e3f-96da-dc3a97d0f15a",
   "metadata": {},
   "outputs": [],
   "source": [
    "import pandas as pd\n",
    "import matplotlib.pyplot as plt\n",
    "import seaborn as sns\n",
    "from bs4 import BeautifulSoup\n",
    "from tqdm import tqdm_notebook as tqdm\n",
    "from datetime import datetime\n",
    "import numpy as np\n",
    "from time import sleep\n",
    "import requests\n",
    "from tqdm.notebook import tqdm\n",
    "import time\n",
    "import random\n",
    "from fake_useragent import UserAgent"
   ]
  },
  {
   "cell_type": "code",
   "execution_count": 2,
   "id": "7825086a-0088-465e-85db-3a142a45109b",
   "metadata": {},
   "outputs": [],
   "source": [
    "pd.options.display.max_rows = 100"
   ]
  },
  {
   "cell_type": "code",
   "execution_count": 136,
   "id": "625da098-2bab-4d90-bf10-dd200a054c00",
   "metadata": {},
   "outputs": [],
   "source": [
    "letter = 'w'\n",
    "pub_id = '3'\n",
    "main_link = 'https://comicbookrealm.com/publisher/3/image-comics/w' # Normally we get this from publishers dataframe"
   ]
  },
  {
   "cell_type": "code",
   "execution_count": 137,
   "id": "d4b064c8-ae6f-4935-b43f-e662bb2ec515",
   "metadata": {},
   "outputs": [],
   "source": [
    "ua = UserAgent()"
   ]
  },
  {
   "cell_type": "code",
   "execution_count": 138,
   "id": "7fdedf73-67cc-404f-bd7f-f3feae221eda",
   "metadata": {},
   "outputs": [
    {
     "data": {
      "text/plain": [
       "200"
      ]
     },
     "execution_count": 138,
     "metadata": {},
     "output_type": "execute_result"
    }
   ],
   "source": [
    "headers = {'User-agent': f'{ua.random}'}\n",
    "response = requests.get(main_link, headers=headers)\n",
    "response.status_code"
   ]
  },
  {
   "cell_type": "code",
   "execution_count": 30,
   "id": "7e67d303-ed72-43b5-bc05-417d2141ed75",
   "metadata": {},
   "outputs": [],
   "source": [
    "soup = BeautifulSoup(response.content, 'html.parser')"
   ]
  },
  {
   "cell_type": "code",
   "execution_count": 31,
   "id": "73cc6849-4561-46bc-af77-f9b4f7a66fb7",
   "metadata": {},
   "outputs": [],
   "source": [
    "titles_lst = soup.find_all('td', class_='title')\n",
    "titles_lst = [td.find('a') for td in titles_lst]\n",
    "\n",
    "titles_links = [a['href'] for a in titles_lst if a['href'] is not None]\n",
    "\n",
    "titles = [a.text for a in titles_lst]"
   ]
  },
  {
   "cell_type": "code",
   "execution_count": 32,
   "id": "6370d28f-3b9e-4850-89cf-9934d8f0c800",
   "metadata": {},
   "outputs": [],
   "source": [
    "volume = [td.text.strip() for td in soup.find_all('td', class_='volume')]\n",
    "years = [td.text.strip() for td in soup.find_all('td', class_='years')]\n",
    "issues = [td.text.strip() for td in soup.find_all('td', class_='issues data-column')]"
   ]
  },
  {
   "cell_type": "code",
   "execution_count": 3,
   "id": "f6ebe33e-1015-45eb-aa27-013750a11df2",
   "metadata": {},
   "outputs": [],
   "source": [
    "def comic_list_scraper(pub_id, pub_name, letter, link, fake_agent=True):\n",
    "    if fake_agent:\n",
    "        ua = UserAgent()\n",
    "        headers = {'User-agent': f'{ua.random}'}\n",
    "    else:\n",
    "        headers = {'User-agent': ''}\n",
    "    \n",
    "    response = requests.get(link, headers=headers)\n",
    "    soup = BeautifulSoup(response.content, 'html.parser')\n",
    "    \n",
    "    titles_lst = soup.find_all('td', class_='title')\n",
    "    titles_lst = [td.find('a') for td in titles_lst]\n",
    "    \n",
    "    titles_links = [a['href'] for a in titles_lst if a['href'] is not None]\n",
    "    titles = [a.text.strip() for a in titles_lst]\n",
    "    volume = [td.text.strip() for td in soup.find_all('td', class_='volume')]\n",
    "    years = [td.text.strip() for td in soup.find_all('td', class_='years')]\n",
    "    issues = [td.text.strip() for td in soup.find_all('td', class_='issues data-column')]\n",
    "    \n",
    "    df = pd.DataFrame({\n",
    "                        'pub_id': [pub_id]*len(titles),\n",
    "                        'pub_name': [pub_name]*len(titles),\n",
    "                        'letter': [letter]*len(titles),\n",
    "                        'title': titles,\n",
    "                        'title_link': titles_links,\n",
    "                        'volume': volume,\n",
    "                        'years': years,\n",
    "                        'issues': issues,\n",
    "        \n",
    "                        })\n",
    "    return df"
   ]
  },
  {
   "cell_type": "code",
   "execution_count": 4,
   "id": "abde1236-201b-4b5c-809a-b3fe4be90e5a",
   "metadata": {},
   "outputs": [],
   "source": [
    "# comic_list_scraper(3, 'image-comics', 'w', main_link)"
   ]
  },
  {
   "cell_type": "code",
   "execution_count": 20,
   "id": "9cb72ef9-57d3-4194-8ae4-f811514a6f76",
   "metadata": {},
   "outputs": [],
   "source": [
    "pubs = pd.read_csv('publishers_data.csv', index_col=0)"
   ]
  },
  {
   "cell_type": "code",
   "execution_count": 21,
   "id": "869fc12d-95f8-4b37-be7c-9c9bf763d525",
   "metadata": {
    "tags": []
   },
   "outputs": [
    {
     "data": {
      "application/vnd.jupyter.widget-view+json": {
       "model_id": "b5bdd1becda447e2a27defd6408980ef",
       "version_major": 2,
       "version_minor": 0
      },
      "text/plain": [
       "0it [00:00, ?it/s]"
      ]
     },
     "metadata": {},
     "output_type": "display_data"
    }
   ],
   "source": [
    "site_link = 'https://comicbookrealm.com'\n",
    "titles_data = []\n",
    "pubs = pubs.iloc[1090:, :]\n",
    "iterates = tqdm(zip(range(len(pubs.id)), pubs.id, pubs.name, pubs.titles_AZ.apply(eval)))\n",
    "for i, id, name, titles in iterates:\n",
    "    iterates.set_description(f\"Processing: {name} - {i + 1} out of {pubs.shape[0]}\")\n",
    "\n",
    "    for title in titles:\n",
    "        letter = title[-1]\n",
    "        link = site_link + title[0]\n",
    "        try:\n",
    "            dat = comic_list_scraper(id, name, letter, link, fake_agent=False)\n",
    "        except:\n",
    "            continue\n",
    "        titles_data.append(dat)\n",
    "        time.sleep(0.1 + random.random())\n"
   ]
  },
  {
   "cell_type": "code",
   "execution_count": 22,
   "id": "291ecd54-1816-4526-bf66-049774ca1742",
   "metadata": {},
   "outputs": [],
   "source": [
    "df_titles = pd.concat(titles_data).reset_index(drop=True)"
   ]
  },
  {
   "cell_type": "code",
   "execution_count": 23,
   "id": "cd7f0f46-5abb-48af-81ec-d3c1f5921759",
   "metadata": {},
   "outputs": [
    {
     "data": {
      "text/html": [
       "<div>\n",
       "<style scoped>\n",
       "    .dataframe tbody tr th:only-of-type {\n",
       "        vertical-align: middle;\n",
       "    }\n",
       "\n",
       "    .dataframe tbody tr th {\n",
       "        vertical-align: top;\n",
       "    }\n",
       "\n",
       "    .dataframe thead th {\n",
       "        text-align: right;\n",
       "    }\n",
       "</style>\n",
       "<table border=\"1\" class=\"dataframe\">\n",
       "  <thead>\n",
       "    <tr style=\"text-align: right;\">\n",
       "      <th></th>\n",
       "      <th>pub_id</th>\n",
       "      <th>pub_name</th>\n",
       "      <th>letter</th>\n",
       "      <th>title</th>\n",
       "      <th>title_link</th>\n",
       "      <th>volume</th>\n",
       "      <th>years</th>\n",
       "      <th>issues</th>\n",
       "    </tr>\n",
       "  </thead>\n",
       "  <tbody>\n",
       "    <tr>\n",
       "      <th>0</th>\n",
       "      <td>2919.0</td>\n",
       "      <td>Kiddieland Books</td>\n",
       "      <td>l</td>\n",
       "      <td>Lil Keiki</td>\n",
       "      <td>/series/12297/0/kiddieland-books-lil-keiki</td>\n",
       "      <td></td>\n",
       "      <td>2005</td>\n",
       "      <td>2</td>\n",
       "    </tr>\n",
       "    <tr>\n",
       "      <th>1</th>\n",
       "      <td>2920.0</td>\n",
       "      <td>Red Eagle Publishing</td>\n",
       "      <td>r</td>\n",
       "      <td>Robert Jordan's New Spring</td>\n",
       "      <td>/series/12302/0/red-eagle-publishing-robert-jo...</td>\n",
       "      <td></td>\n",
       "      <td>2005-2006</td>\n",
       "      <td>5</td>\n",
       "    </tr>\n",
       "    <tr>\n",
       "      <th>2</th>\n",
       "      <td>2921.0</td>\n",
       "      <td>Timely Comics</td>\n",
       "      <td>a</td>\n",
       "      <td>Adventures of Big Boy</td>\n",
       "      <td>/series/60/0/timely-comics-adventures-of-big-b...</td>\n",
       "      <td>Vol. 1</td>\n",
       "      <td>1955-1996</td>\n",
       "      <td>536</td>\n",
       "    </tr>\n",
       "    <tr>\n",
       "      <th>3</th>\n",
       "      <td>2921.0</td>\n",
       "      <td>Timely Comics</td>\n",
       "      <td>a</td>\n",
       "      <td>All-Select Comics</td>\n",
       "      <td>/series/88/0/timely-comics-all-select-comics</td>\n",
       "      <td></td>\n",
       "      <td>1943-1946</td>\n",
       "      <td>11</td>\n",
       "    </tr>\n",
       "    <tr>\n",
       "      <th>4</th>\n",
       "      <td>2921.0</td>\n",
       "      <td>Timely Comics</td>\n",
       "      <td>a</td>\n",
       "      <td>Amazing Comics</td>\n",
       "      <td>/series/105/0/timely-comics-amazing-comics</td>\n",
       "      <td></td>\n",
       "      <td>1944</td>\n",
       "      <td>1</td>\n",
       "    </tr>\n",
       "    <tr>\n",
       "      <th>...</th>\n",
       "      <td>...</td>\n",
       "      <td>...</td>\n",
       "      <td>...</td>\n",
       "      <td>...</td>\n",
       "      <td>...</td>\n",
       "      <td>...</td>\n",
       "      <td>...</td>\n",
       "      <td>...</td>\n",
       "    </tr>\n",
       "    <tr>\n",
       "      <th>22432</th>\n",
       "      <td>8249.0</td>\n",
       "      <td>Vosshogg Productions</td>\n",
       "      <td>t</td>\n",
       "      <td>The Templetons</td>\n",
       "      <td>/series/68616/0/vosshogg-productions-the-templ...</td>\n",
       "      <td>One-Shot</td>\n",
       "      <td>2000</td>\n",
       "      <td>1</td>\n",
       "    </tr>\n",
       "    <tr>\n",
       "      <th>22433</th>\n",
       "      <td>8250.0</td>\n",
       "      <td>Centrala</td>\n",
       "      <td>j</td>\n",
       "      <td>Jarmil In India</td>\n",
       "      <td>/series/68619/0/centrala-jarmil-in-india</td>\n",
       "      <td></td>\n",
       "      <td>2021</td>\n",
       "      <td>1</td>\n",
       "    </tr>\n",
       "    <tr>\n",
       "      <th>22434</th>\n",
       "      <td>8251.0</td>\n",
       "      <td>MPH Comics</td>\n",
       "      <td>p</td>\n",
       "      <td>Pop Art Funnies</td>\n",
       "      <td>/series/68622/0/mph-comics-pop-art-funnies</td>\n",
       "      <td></td>\n",
       "      <td>2003-2007</td>\n",
       "      <td>9</td>\n",
       "    </tr>\n",
       "    <tr>\n",
       "      <th>22435</th>\n",
       "      <td>8252.0</td>\n",
       "      <td>A is For</td>\n",
       "      <td>c</td>\n",
       "      <td>Clinic Escorts: Stories from the Front Lines</td>\n",
       "      <td>/series/68623/0/a-is-for-clinic-escorts-storie...</td>\n",
       "      <td></td>\n",
       "      <td>2020</td>\n",
       "      <td>1</td>\n",
       "    </tr>\n",
       "    <tr>\n",
       "      <th>22436</th>\n",
       "      <td>8253.0</td>\n",
       "      <td>Public Health - Seattle/King County</td>\n",
       "      <td>s</td>\n",
       "      <td>Sketches from Outside the Margins: Stories fro...</td>\n",
       "      <td>/series/68624/0/public-health-seattle-king-cou...</td>\n",
       "      <td>One-Shot</td>\n",
       "      <td>2017</td>\n",
       "      <td>1</td>\n",
       "    </tr>\n",
       "  </tbody>\n",
       "</table>\n",
       "<p>22437 rows × 8 columns</p>\n",
       "</div>"
      ],
      "text/plain": [
       "       pub_id                             pub_name letter  \\\n",
       "0      2919.0                     Kiddieland Books      l   \n",
       "1      2920.0                 Red Eagle Publishing      r   \n",
       "2      2921.0                        Timely Comics      a   \n",
       "3      2921.0                        Timely Comics      a   \n",
       "4      2921.0                        Timely Comics      a   \n",
       "...       ...                                  ...    ...   \n",
       "22432  8249.0                 Vosshogg Productions      t   \n",
       "22433  8250.0                             Centrala      j   \n",
       "22434  8251.0                           MPH Comics      p   \n",
       "22435  8252.0                             A is For      c   \n",
       "22436  8253.0  Public Health - Seattle/King County      s   \n",
       "\n",
       "                                                   title  \\\n",
       "0                                              Lil Keiki   \n",
       "1                             Robert Jordan's New Spring   \n",
       "2                                  Adventures of Big Boy   \n",
       "3                                      All-Select Comics   \n",
       "4                                         Amazing Comics   \n",
       "...                                                  ...   \n",
       "22432                                     The Templetons   \n",
       "22433                                    Jarmil In India   \n",
       "22434                                    Pop Art Funnies   \n",
       "22435       Clinic Escorts: Stories from the Front Lines   \n",
       "22436  Sketches from Outside the Margins: Stories fro...   \n",
       "\n",
       "                                              title_link    volume      years  \\\n",
       "0             /series/12297/0/kiddieland-books-lil-keiki                 2005   \n",
       "1      /series/12302/0/red-eagle-publishing-robert-jo...            2005-2006   \n",
       "2      /series/60/0/timely-comics-adventures-of-big-b...    Vol. 1  1955-1996   \n",
       "3           /series/88/0/timely-comics-all-select-comics            1943-1946   \n",
       "4             /series/105/0/timely-comics-amazing-comics                 1944   \n",
       "...                                                  ...       ...        ...   \n",
       "22432  /series/68616/0/vosshogg-productions-the-templ...  One-Shot       2000   \n",
       "22433           /series/68619/0/centrala-jarmil-in-india                 2021   \n",
       "22434         /series/68622/0/mph-comics-pop-art-funnies            2003-2007   \n",
       "22435  /series/68623/0/a-is-for-clinic-escorts-storie...                 2020   \n",
       "22436  /series/68624/0/public-health-seattle-king-cou...  One-Shot       2017   \n",
       "\n",
       "      issues  \n",
       "0          2  \n",
       "1          5  \n",
       "2        536  \n",
       "3         11  \n",
       "4          1  \n",
       "...      ...  \n",
       "22432      1  \n",
       "22433      1  \n",
       "22434      9  \n",
       "22435      1  \n",
       "22436      1  \n",
       "\n",
       "[22437 rows x 8 columns]"
      ]
     },
     "execution_count": 23,
     "metadata": {},
     "output_type": "execute_result"
    }
   ],
   "source": [
    "df_titles"
   ]
  },
  {
   "cell_type": "code",
   "execution_count": 24,
   "id": "443ba535-a165-418d-a5d2-22ab5b3b1dc7",
   "metadata": {},
   "outputs": [],
   "source": [
    "df_titles.to_csv('titles_list_data-part2.csv')"
   ]
  },
  {
   "cell_type": "code",
   "execution_count": 149,
   "id": "cdf611cd-a9c4-4ebf-808f-1feca01490e0",
   "metadata": {},
   "outputs": [
    {
     "data": {
      "text/html": [
       "<div>\n",
       "<style scoped>\n",
       "    .dataframe tbody tr th:only-of-type {\n",
       "        vertical-align: middle;\n",
       "    }\n",
       "\n",
       "    .dataframe tbody tr th {\n",
       "        vertical-align: top;\n",
       "    }\n",
       "\n",
       "    .dataframe thead th {\n",
       "        text-align: right;\n",
       "    }\n",
       "</style>\n",
       "<table border=\"1\" class=\"dataframe\">\n",
       "  <thead>\n",
       "    <tr style=\"text-align: right;\">\n",
       "      <th></th>\n",
       "      <th>id</th>\n",
       "      <th>name</th>\n",
       "      <th>logo_link</th>\n",
       "      <th>titles_tracking</th>\n",
       "      <th>comics_tracking</th>\n",
       "      <th>most_valuable</th>\n",
       "      <th>most_owned</th>\n",
       "      <th>most_wanted</th>\n",
       "      <th>new_additions</th>\n",
       "      <th>titles_AZ</th>\n",
       "    </tr>\n",
       "  </thead>\n",
       "  <tbody>\n",
       "  </tbody>\n",
       "</table>\n",
       "</div>"
      ],
      "text/plain": [
       "Empty DataFrame\n",
       "Columns: [id, name, logo_link, titles_tracking, comics_tracking, most_valuable, most_owned, most_wanted, new_additions, titles_AZ]\n",
       "Index: []"
      ]
     },
     "execution_count": 149,
     "metadata": {},
     "output_type": "execute_result"
    }
   ],
   "source": [
    "pubs"
   ]
  },
  {
   "cell_type": "code",
   "execution_count": null,
   "id": "1fdd9439-4fa5-41d2-9462-ce8da6e6538e",
   "metadata": {},
   "outputs": [],
   "source": []
  }
 ],
 "metadata": {
  "kernelspec": {
   "display_name": "Python 3 (ipykernel)",
   "language": "python",
   "name": "python3"
  },
  "language_info": {
   "codemirror_mode": {
    "name": "ipython",
    "version": 3
   },
   "file_extension": ".py",
   "mimetype": "text/x-python",
   "name": "python",
   "nbconvert_exporter": "python",
   "pygments_lexer": "ipython3",
   "version": "3.9.7"
  }
 },
 "nbformat": 4,
 "nbformat_minor": 5
}
