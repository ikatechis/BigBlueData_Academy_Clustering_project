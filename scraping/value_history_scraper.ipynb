{
 "cells": [
  {
   "cell_type": "code",
   "execution_count": 2,
   "id": "d9bed30f-cf36-4219-8de5-fcc733359616",
   "metadata": {},
   "outputs": [],
   "source": [
    "import pandas as pd\n",
    "from bs4 import BeautifulSoup\n",
    "import numpy as np\n",
    "from time import sleep\n",
    "import requests\n",
    "from tqdm.notebook import tqdm\n",
    "import time\n",
    "import random\n",
    "from fake_useragent import UserAgent"
   ]
  },
  {
   "cell_type": "code",
   "execution_count": 85,
   "id": "0269c0f8-474a-4f2c-a59c-f5c75cc3f5f0",
   "metadata": {},
   "outputs": [],
   "source": [
    "def get_hist_values(link, sleep_time=0.6, random_sleep=True, random_agent=True):\n",
    "    main_link = 'https://comicbookrealm.com' + link\n",
    "    if random_agent:\n",
    "        ua = UserAgent()\n",
    "        headers = {'User-agent': f'{ua.random}'}\n",
    "        \n",
    "    else:\n",
    "        headers = {'User-agent': ''}\n",
    "        \n",
    "    response = requests.get(main_link, headers=headers)\n",
    "    soup = BeautifulSoup(response.content, 'html.parser')\n",
    "    dates = [td.text.strip() for td in soup.find_all('td', class_='item')]\n",
    "    prices = [td.text.strip() for td in soup.find_all('td', class_='data')]\n",
    "    \n",
    "    frame = pd.DataFrame({'hist_prices_link': link, 'dates': str(dates), \n",
    "                          'prices': str(prices)}, index=[0])\n",
    "    \n",
    "    sleep(sleep_time + np.random.random()/2*random_sleep)\n",
    "    \n",
    "    return frame\n",
    "\n",
    "def hist_scraper(data_path, data_range=(0, 10), sleep_time=0.6, random_sleep=True, random_agent=True):\n",
    "    df = pd.read_parquet('all_data.parquet').iloc[data_range[0]: data_range[1]]\n",
    "    frames = []\n",
    "    iterator = tqdm(enumerate(df1.hist_prices_link))\n",
    "    \n",
    "    for i, link in iterator:\n",
    "        if link is not None:\n",
    "            iterator.set_description(f\"Processing: {i + 1 + data_range[0]} / {df1.shape[0] + data_range[0]}\")\n",
    "            frame = get_hist_values(link, sleep_time, random_sleep, random_agent)\n",
    "            frames.append(frame)\n",
    "        else:\n",
    "            continue\n",
    "                                     \n",
    "        if i%10000 == 0 and i > 0:\n",
    "            temp = pd.concat(frames, axis=0)\n",
    "            temp.to_csv(f'backup_data/hist_prices_data_{i + data_range[0]}.csv', index=False)\n",
    "                                     \n",
    "                            \n",
    "    df_hist = pd.concat(frames, axis=0).reset_index(drop=True)\n",
    "    df_hist.to_csv('hist_prices_data.csv', index=False)\n",
    "    \n",
    "    return df_hist"
   ]
  },
  {
   "cell_type": "code",
   "execution_count": 55,
   "id": "84b820c9-ed60-41b1-a78d-c4a5441c4df4",
   "metadata": {},
   "outputs": [],
   "source": [
    "df = pd.read_parquet('all_data.parquet')\n",
    "df = df.sort_values('current_value', ascending=False).reset_index(drop=True)"
   ]
  },
  {
   "cell_type": "code",
   "execution_count": 87,
   "id": "69cd1c34-f210-4b2c-bac1-99d88a69236b",
   "metadata": {},
   "outputs": [
    {
     "data": {
      "application/vnd.jupyter.widget-view+json": {
       "model_id": "91caab5a01ea4d829014aed03616ce8f",
       "version_major": 2,
       "version_minor": 0
      },
      "text/plain": [
       "0it [00:00, ?it/s]"
      ]
     },
     "metadata": {},
     "output_type": "display_data"
    }
   ],
   "source": [
    "res = hist_scraper('all_data.parquet')"
   ]
  },
  {
   "cell_type": "code",
   "execution_count": 54,
   "id": "7c6221d3-90f8-49ce-bd91-ac60372fca81",
   "metadata": {},
   "outputs": [
    {
     "data": {
      "text/html": [
       "<div>\n",
       "<style scoped>\n",
       "    .dataframe tbody tr th:only-of-type {\n",
       "        vertical-align: middle;\n",
       "    }\n",
       "\n",
       "    .dataframe tbody tr th {\n",
       "        vertical-align: top;\n",
       "    }\n",
       "\n",
       "    .dataframe thead th {\n",
       "        text-align: right;\n",
       "    }\n",
       "</style>\n",
       "<table border=\"1\" class=\"dataframe\">\n",
       "  <thead>\n",
       "    <tr style=\"text-align: right;\">\n",
       "      <th></th>\n",
       "      <th>dates</th>\n",
       "      <th>prices</th>\n",
       "    </tr>\n",
       "  </thead>\n",
       "  <tbody>\n",
       "    <tr>\n",
       "      <th>0</th>\n",
       "      <td>['Currently', 'November 3, 2015']</td>\n",
       "      <td>['$4.00', '$3.00']</td>\n",
       "    </tr>\n",
       "    <tr>\n",
       "      <th>1</th>\n",
       "      <td>['Currently']</td>\n",
       "      <td>['$10.00']</td>\n",
       "    </tr>\n",
       "    <tr>\n",
       "      <th>2</th>\n",
       "      <td>['Currently', 'March 6, 2013', 'September 10, ...</td>\n",
       "      <td>['$200.00', '$190.00', '$170.00', '$120.00']</td>\n",
       "    </tr>\n",
       "    <tr>\n",
       "      <th>3</th>\n",
       "      <td>['Currently', 'January 21, 2020']</td>\n",
       "      <td>['$6.00', '$5.00']</td>\n",
       "    </tr>\n",
       "    <tr>\n",
       "      <th>4</th>\n",
       "      <td>['Currently']</td>\n",
       "      <td>['$3.00']</td>\n",
       "    </tr>\n",
       "    <tr>\n",
       "      <th>5</th>\n",
       "      <td>['Currently']</td>\n",
       "      <td>['$10.00']</td>\n",
       "    </tr>\n",
       "    <tr>\n",
       "      <th>6</th>\n",
       "      <td>['Currently']</td>\n",
       "      <td>['$14.00']</td>\n",
       "    </tr>\n",
       "    <tr>\n",
       "      <th>7</th>\n",
       "      <td>['Currently']</td>\n",
       "      <td>['$6.00']</td>\n",
       "    </tr>\n",
       "    <tr>\n",
       "      <th>8</th>\n",
       "      <td>['Currently']</td>\n",
       "      <td>['$8.00']</td>\n",
       "    </tr>\n",
       "    <tr>\n",
       "      <th>9</th>\n",
       "      <td>['Currently']</td>\n",
       "      <td>['$4.00']</td>\n",
       "    </tr>\n",
       "  </tbody>\n",
       "</table>\n",
       "</div>"
      ],
      "text/plain": [
       "                                               dates  \\\n",
       "0                  ['Currently', 'November 3, 2015']   \n",
       "1                                      ['Currently']   \n",
       "2  ['Currently', 'March 6, 2013', 'September 10, ...   \n",
       "3                  ['Currently', 'January 21, 2020']   \n",
       "4                                      ['Currently']   \n",
       "5                                      ['Currently']   \n",
       "6                                      ['Currently']   \n",
       "7                                      ['Currently']   \n",
       "8                                      ['Currently']   \n",
       "9                                      ['Currently']   \n",
       "\n",
       "                                         prices  \n",
       "0                            ['$4.00', '$3.00']  \n",
       "1                                    ['$10.00']  \n",
       "2  ['$200.00', '$190.00', '$170.00', '$120.00']  \n",
       "3                            ['$6.00', '$5.00']  \n",
       "4                                     ['$3.00']  \n",
       "5                                    ['$10.00']  \n",
       "6                                    ['$14.00']  \n",
       "7                                     ['$6.00']  \n",
       "8                                     ['$8.00']  \n",
       "9                                     ['$4.00']  "
      ]
     },
     "execution_count": 54,
     "metadata": {},
     "output_type": "execute_result"
    }
   ],
   "source": [
    "res"
   ]
  },
  {
   "cell_type": "code",
   "execution_count": null,
   "id": "8df4eb5e-cee9-41ab-a65b-11a8e7af0c67",
   "metadata": {},
   "outputs": [],
   "source": []
  },
  {
   "cell_type": "code",
   "execution_count": null,
   "id": "b3ec344a-4b00-4f4c-805b-f28b25804e43",
   "metadata": {},
   "outputs": [],
   "source": []
  },
  {
   "cell_type": "code",
   "execution_count": null,
   "id": "e8c533e4-c738-4e8f-a1b7-4a65b1d05efb",
   "metadata": {},
   "outputs": [],
   "source": []
  },
  {
   "cell_type": "code",
   "execution_count": null,
   "id": "3b92b20b-efed-4bf8-8f23-ba2ba6bd9c2d",
   "metadata": {},
   "outputs": [],
   "source": []
  },
  {
   "cell_type": "code",
   "execution_count": null,
   "id": "91536124-c936-48b7-a947-a8d9a67e8c99",
   "metadata": {},
   "outputs": [],
   "source": []
  },
  {
   "cell_type": "code",
   "execution_count": null,
   "id": "50cd693d-a2ef-4434-adad-20379acbc3c2",
   "metadata": {},
   "outputs": [],
   "source": []
  }
 ],
 "metadata": {
  "kernelspec": {
   "display_name": "Python 3 (ipykernel)",
   "language": "python",
   "name": "python3"
  },
  "language_info": {
   "codemirror_mode": {
    "name": "ipython",
    "version": 3
   },
   "file_extension": ".py",
   "mimetype": "text/x-python",
   "name": "python",
   "nbconvert_exporter": "python",
   "pygments_lexer": "ipython3",
   "version": "3.9.7"
  }
 },
 "nbformat": 4,
 "nbformat_minor": 5
}
