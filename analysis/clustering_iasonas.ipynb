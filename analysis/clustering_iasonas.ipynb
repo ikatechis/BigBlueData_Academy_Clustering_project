{
 "cells": [
  {
   "cell_type": "code",
   "execution_count": null,
   "id": "6771399f-b679-4952-ac90-5bce52101129",
   "metadata": {},
   "outputs": [],
   "source": [
    "import pandas as pd\n",
    "import numpy as np\n",
    "import matplotlib.pyplot as plt\n",
    "import seaborn as sns\n",
    "\n",
    "%load_ext autotime\n",
    "\n",
    "from sklearn.decomposition import PCA, TruncatedSVD\n",
    "from sklearn.preprocessing import StandardScaler, MinMaxScaler\n",
    "from sklearn.cluster import KMeans, DBSCAN\n",
    "from sklearn.metrics import  silhouette_score\n",
    "from sklearn import datasets\n",
    "from scipy.cluster.hierarchy import dendrogram, linkage\n",
    "from yellowbrick.cluster import SilhouetteVisualizer, KElbowVisualizer"
   ]
  },
  {
   "cell_type": "code",
   "execution_count": null,
   "id": "e9b462a7-ddf5-4f77-aec5-d0de11937b56",
   "metadata": {},
   "outputs": [],
   "source": [
    "pd.options.display.max_columns = 100\n",
    "pd.options.display.max_colwidth = 50\n",
    "pd.options.display.max_rows = 200"
   ]
  },
  {
   "cell_type": "code",
   "execution_count": null,
   "id": "34b7d2ce-2df9-45ef-a857-a82e9e88d3d0",
   "metadata": {},
   "outputs": [],
   "source": [
    "df = pd.read_csv('../data/data_featurized.csv', index_col=0)"
   ]
  },
  {
   "cell_type": "code",
   "execution_count": null,
   "id": "c80b68c6-6515-4844-b0f2-a16331959518",
   "metadata": {},
   "outputs": [],
   "source": [
    "# one hοt encoding of volume_type, special\n",
    "df_dum = df.join(pd.get_dummies(df['volume_type'], prefix='volume_type'))\n",
    "df_dum = df_dum.join(pd.get_dummies(df_dum['special'], prefix='special'))\n",
    "# drop unwanted columns\n",
    "df_dum = df_dum.drop(columns=['volume_type', 'special'])"
   ]
  },
  {
   "cell_type": "code",
   "execution_count": null,
   "id": "7a63e927-b461-4d7a-b3ad-36aef1a47819",
   "metadata": {},
   "outputs": [],
   "source": [
    "df1 = df_dum[df_dum.value_over_price < 1000]"
   ]
  },
  {
   "cell_type": "code",
   "execution_count": null,
   "id": "fc78388d-a86f-43e6-bc80-6cb8a61d48c6",
   "metadata": {},
   "outputs": [],
   "source": [
    "# Normalize data\n",
    "scaler = MinMaxScaler()\n",
    "scaled = scaler.fit_transform(df1.drop('value_over_price', axis=1))"
   ]
  },
  {
   "cell_type": "markdown",
   "id": "3f0738b6-390f-4c36-abc7-a3a7378ca6cc",
   "metadata": {},
   "source": [
    "### Hierarchical Clustering"
   ]
  },
  {
   "cell_type": "code",
   "execution_count": null,
   "id": "e2e88567-d9b4-49c1-b8f1-fe7ff6e837b1",
   "metadata": {},
   "outputs": [],
   "source": [
    "# Create Dendrogram\n",
    "\n",
    "def plot_dendrogram(model, **kwargs):\n",
    "    # Create linkage matrix and then plot the dendrogram\n",
    "\n",
    "    # create the counts of samples under each node\n",
    "    counts = np.zeros(model.children_.shape[0])\n",
    "    n_samples = len(model.labels_)\n",
    "    for i, merge in enumerate(model.children_):\n",
    "        current_count = 0\n",
    "        for child_idx in merge:\n",
    "            if child_idx < n_samples:\n",
    "                current_count += 1  # leaf node\n",
    "            else:\n",
    "                current_count += counts[child_idx - n_samples]\n",
    "        counts[i] = current_count\n",
    "\n",
    "    linkage_matrix = np.column_stack(\n",
    "        [model.children_, model.distances_, counts]\n",
    "    ).astype(float)\n",
    "\n",
    "    # Plot the corresponding dendrogram\n",
    "    dendrogram(linkage_matrix, **kwargs)\n",
    "\n",
    "\n",
    "# setting distance_threshold=0 ensures we compute the full tree.\n",
    "model = AgglomerativeClustering(distance_threshold=0, memory='./agglo_cache/', n_clusters=None,  \n",
    "                                linkage='ward')\n",
    "\n",
    "# take a sample from data\n",
    "sample = df_dum.sample(1000)\n",
    "# Normalize data\n",
    "scaler = MinMaxScaler()\n",
    "scaled_sampled = scaler.fit_transform(sample)\n",
    "model = model.fit(scaled_sampled)\n",
    "\n",
    "plt.title(\"Hierarchical Clustering Dendrogram\")\n",
    "# plot the top three levels of the dendrogram\n",
    "plot_dendrogram(model, truncate_mode=\"level\", p=100)\n",
    "plt.xlabel(\"Number of points in node (or index of point if no parenthesis).\")\n",
    "plt.show()"
   ]
  },
  {
   "cell_type": "code",
   "execution_count": null,
   "id": "1edf0487-8427-48ee-95e8-57f7997f39da",
   "metadata": {},
   "outputs": [],
   "source": []
  },
  {
   "cell_type": "markdown",
   "id": "6c9473a4-2eb9-4544-bafb-0413e79e0155",
   "metadata": {},
   "source": [
    "### KMeans"
   ]
  },
  {
   "cell_type": "code",
   "execution_count": null,
   "id": "751977a8-97bb-4dcf-b373-d6b3d7e8f3b6",
   "metadata": {},
   "outputs": [],
   "source": [
    "km = KMeans(n_clusters=3, init='k-means++')"
   ]
  },
  {
   "cell_type": "code",
   "execution_count": null,
   "id": "2b69dfaa-c8d0-4c87-9fcf-264375d27927",
   "metadata": {},
   "outputs": [],
   "source": [
    "km.fit(scaled)"
   ]
  },
  {
   "cell_type": "code",
   "execution_count": null,
   "id": "c6795606-f129-43b6-a32e-9531447c1a32",
   "metadata": {},
   "outputs": [],
   "source": [
    "km.labels_.shape"
   ]
  },
  {
   "cell_type": "code",
   "execution_count": null,
   "id": "6ea9718d-4e9f-4807-a159-f64fa0f383f4",
   "metadata": {},
   "outputs": [],
   "source": [
    "visualizer = KElbowVisualizer(KMeans(n_clusters=4, random_state=0), colors='yellowbrick')\n",
    "visualizer.fit(scaled)\n",
    "visualizer.show()  "
   ]
  },
  {
   "cell_type": "code",
   "execution_count": null,
   "id": "9fbbaef9-71d3-46b9-b651-550e9f8b6a2d",
   "metadata": {},
   "outputs": [],
   "source": [
    "# visualizer = SilhouetteVisualizer(KMeans(n_clusters=5, random_state=0), colors='yellowbrick')\n",
    "# visualizer.fit(scaled)\n",
    "# visualizer.show()   "
   ]
  },
  {
   "cell_type": "code",
   "execution_count": null,
   "id": "f5e179e7-0c26-4989-ae9b-2584c813a15c",
   "metadata": {},
   "outputs": [],
   "source": [
    "df1.groupby('kmeans')['months_ago'].count()"
   ]
  },
  {
   "cell_type": "code",
   "execution_count": null,
   "id": "3d24cb81-c371-4d9a-8d3b-797d69ec1925",
   "metadata": {},
   "outputs": [],
   "source": [
    "df1['kmeans'] = km.labels_"
   ]
  },
  {
   "cell_type": "code",
   "execution_count": null,
   "id": "662d9a36-6eef-4333-8696-5acb3a41d799",
   "metadata": {},
   "outputs": [],
   "source": [
    "group = df1.groupby('kmeans').agg('mean').reset_index()"
   ]
  },
  {
   "cell_type": "code",
   "execution_count": null,
   "id": "cb31ad29-4649-43d9-9f5f-5cee1d6aa412",
   "metadata": {},
   "outputs": [],
   "source": [
    "pd.plotting.parallel_coordinates(group, )"
   ]
  },
  {
   "cell_type": "code",
   "execution_count": null,
   "id": "f02049af-a6d7-4fce-8e38-3fbd86d3ddda",
   "metadata": {},
   "outputs": [],
   "source": [
    "stats = ['mean', 'median', 'std']\n",
    "to_agg = dict.fromkeys(['value_over_price', 'months_ago', 'issue_nr', 'print_nr', 'searched'], stats)\n",
    "df1.groupby('kmeans').agg(to_agg) "
   ]
  },
  {
   "cell_type": "code",
   "execution_count": null,
   "id": "c9882499-36b3-4595-b26f-9fd5945f3791",
   "metadata": {},
   "outputs": [],
   "source": [
    "sns.scatterplot(data=df1, x='value_over_price', y='searched', hue='kmeans')\n",
    "plt.ylim(0, 50000)"
   ]
  },
  {
   "cell_type": "code",
   "execution_count": null,
   "id": "103fd679-1854-4906-990d-817c8f5fb1ec",
   "metadata": {},
   "outputs": [],
   "source": [
    "km.score()"
   ]
  },
  {
   "cell_type": "code",
   "execution_count": null,
   "id": "42750989-0ea5-499b-bd87-f0491d35311e",
   "metadata": {},
   "outputs": [],
   "source": []
  },
  {
   "cell_type": "code",
   "execution_count": null,
   "id": "3b07e63b-a21e-4f8a-9d56-9ab1ca31a04c",
   "metadata": {},
   "outputs": [],
   "source": []
  },
  {
   "cell_type": "code",
   "execution_count": null,
   "id": "f774cc93-c595-4671-bf0f-6647453b74c1",
   "metadata": {},
   "outputs": [],
   "source": []
  },
  {
   "cell_type": "code",
   "execution_count": null,
   "id": "48bc4042-9a24-45e2-8231-364dc023bc26",
   "metadata": {},
   "outputs": [],
   "source": []
  }
 ],
 "metadata": {
  "kernelspec": {
   "display_name": "Python 3 (ipykernel)",
   "language": "python",
   "name": "python3"
  },
  "language_info": {
   "codemirror_mode": {
    "name": "ipython",
    "version": 3
   },
   "file_extension": ".py",
   "mimetype": "text/x-python",
   "name": "python",
   "nbconvert_exporter": "python",
   "pygments_lexer": "ipython3",
   "version": "3.9.7"
  }
 },
 "nbformat": 4,
 "nbformat_minor": 5
}
