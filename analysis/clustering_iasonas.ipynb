{
 "cells": [
  {
   "cell_type": "code",
   "execution_count": null,
   "id": "6771399f-b679-4952-ac90-5bce52101129",
   "metadata": {},
   "outputs": [],
   "source": [
    "import pandas as pd\n",
    "import numpy as np\n",
    "import matplotlib.pyplot as plt\n",
    "import seaborn as sns\n",
    "import plotly.express as px\n",
    "\n",
    "%load_ext autotime\n",
    "\n",
    "from sklearn.decomposition import PCA, TruncatedSVD\n",
    "from sklearn.preprocessing import StandardScaler, MinMaxScaler\n",
    "from sklearn.cluster import KMeans, DBSCAN, OPTICS\n",
    "from sklearn.metrics import  silhouette_score\n",
    "from sklearn import datasets\n",
    "from scipy.cluster.hierarchy import dendrogram, linkage\n",
    "from yellowbrick.cluster import SilhouetteVisualizer, KElbowVisualizer\n",
    "\n",
    "from hdbscan import HDBSCAN\n",
    "from joblib import Memory, dump"
   ]
  },
  {
   "cell_type": "code",
   "execution_count": null,
   "id": "e9b462a7-ddf5-4f77-aec5-d0de11937b56",
   "metadata": {},
   "outputs": [],
   "source": [
    "pd.options.display.max_columns = 100\n",
    "pd.options.display.max_colwidth = 50\n",
    "pd.options.display.max_rows = 200"
   ]
  },
  {
   "cell_type": "code",
   "execution_count": null,
   "id": "b105daf1-a255-4e4e-a92f-a9aacae50650",
   "metadata": {},
   "outputs": [],
   "source": [
    "df3 = pd.read_csv('../data/data_final.csv', index_col=0)"
   ]
  },
  {
   "cell_type": "code",
   "execution_count": null,
   "id": "2881b184-4464-4f65-a422-f8451f0fb628",
   "metadata": {},
   "outputs": [],
   "source": [
    "df3"
   ]
  },
  {
   "cell_type": "markdown",
   "id": "6c9473a4-2eb9-4544-bafb-0413e79e0155",
   "metadata": {},
   "source": [
    "### KMeans"
   ]
  },
  {
   "cell_type": "code",
   "execution_count": null,
   "id": "1011827c-9c67-4676-86c4-6e84bbcac8af",
   "metadata": {},
   "outputs": [],
   "source": [
    "def get_kmeans(dframe, clusters=4, scaler=None):\n",
    "    if scaler is None:\n",
    "        data = dframe.copy()\n",
    "    else:\n",
    "        data = scaler.fit_transform(dframe.copy())\n",
    "    km = KMeans(n_clusters=clusters)\n",
    "    km.fit(data)\n",
    "    dd = dframe.copy()\n",
    "    dd['kmeans'] = km.labels_\n",
    "    \n",
    "    return dd, km\n",
    "    \n",
    "    "
   ]
  },
  {
   "cell_type": "code",
   "execution_count": null,
   "id": "751977a8-97bb-4dcf-b373-d6b3d7e8f3b6",
   "metadata": {},
   "outputs": [],
   "source": [
    "# Normalize data\n",
    "scaler = MinMaxScaler()\n",
    "# scaler = None\n",
    "dff, model = get_kmeans(df3, 3, scaler)"
   ]
  },
  {
   "cell_type": "code",
   "execution_count": null,
   "id": "f5e179e7-0c26-4989-ae9b-2584c813a15c",
   "metadata": {},
   "outputs": [],
   "source": [
    "dff.groupby('kmeans')['months_ago'].count()"
   ]
  },
  {
   "cell_type": "code",
   "execution_count": null,
   "id": "3d24cb81-c371-4d9a-8d3b-797d69ec1925",
   "metadata": {},
   "outputs": [],
   "source": [
    "def q90(x):\n",
    "    return x.quantile(0.90)"
   ]
  },
  {
   "cell_type": "code",
   "execution_count": null,
   "id": "662d9a36-6eef-4333-8696-5acb3a41d799",
   "metadata": {},
   "outputs": [],
   "source": [
    "group = dff.groupby('kmeans').agg(['mean', 'std', q90]).reset_index()"
   ]
  },
  {
   "cell_type": "code",
   "execution_count": null,
   "id": "91400eeb-e021-451e-a783-32717723f34a",
   "metadata": {},
   "outputs": [],
   "source": [
    "group"
   ]
  },
  {
   "cell_type": "code",
   "execution_count": null,
   "id": "f02049af-a6d7-4fce-8e38-3fbd86d3ddda",
   "metadata": {},
   "outputs": [],
   "source": [
    "stats = ['mean', 'std', q90]\n",
    "to_agg = dict.fromkeys(['value_over_price', 'months_ago', 'variant', 'print_nr', 'searched', \n",
    "                        'issues_total', 'pub_issues_total', 'special', 'event', 'volume_type_ongoing'], stats)\n",
    "dff.groupby('kmeans').agg(to_agg) "
   ]
  },
  {
   "cell_type": "code",
   "execution_count": null,
   "id": "4ae9c459-8bda-49c9-9b57-1819d35f956b",
   "metadata": {},
   "outputs": [],
   "source": [
    "sns.histplot(dff[dff.kmeans == 1], x='value_over_price', stat='percent')"
   ]
  },
  {
   "cell_type": "code",
   "execution_count": null,
   "id": "3d6af74c-f7dc-41be-a401-299437ee6cf0",
   "metadata": {},
   "outputs": [],
   "source": []
  },
  {
   "cell_type": "code",
   "execution_count": null,
   "id": "c9882499-36b3-4595-b26f-9fd5945f3791",
   "metadata": {
    "jupyter": {
     "outputs_hidden": true
    },
    "tags": []
   },
   "outputs": [],
   "source": [
    "# sns.pairplot(data=dff.sample(10000), hue='kmeans', vars=['value_over_price', 'months_ago', 'variant', 'special', \n",
    "#                                                          'volume_type_limited-series', 'volume_type_ongoing', ''])"
   ]
  },
  {
   "cell_type": "code",
   "execution_count": null,
   "id": "95b03add-fc0e-4fb8-85dd-e17da5abb506",
   "metadata": {},
   "outputs": [],
   "source": [
    "fig2 = px.parallel_coordinates(group, color=\"kmeans\", width=2000, range_color=[0, 2])\n",
    "fig2.show()"
   ]
  },
  {
   "cell_type": "code",
   "execution_count": null,
   "id": "3b07e63b-a21e-4f8a-9d56-9ab1ca31a04c",
   "metadata": {},
   "outputs": [],
   "source": []
  },
  {
   "cell_type": "code",
   "execution_count": null,
   "id": "ccae6d39-9a50-46cd-b0d1-3678800fcf41",
   "metadata": {},
   "outputs": [],
   "source": [
    "scaler = MinMaxScaler()\n",
    "scaled = scaler.fit_transform(df3)"
   ]
  },
  {
   "cell_type": "code",
   "execution_count": null,
   "id": "7da58ad1-fdbd-4920-b012-a920503f6c2d",
   "metadata": {},
   "outputs": [],
   "source": [
    "scaled"
   ]
  },
  {
   "cell_type": "code",
   "execution_count": null,
   "id": "e03e71f5-3640-4f03-bd88-d2b564bbb48f",
   "metadata": {},
   "outputs": [],
   "source": [
    "opt = OPTICS(min_samples=100, min_cluster_size=20000, memory='./cache/', n_jobs=-1, max_eps=100)"
   ]
  },
  {
   "cell_type": "code",
   "execution_count": null,
   "id": "48bc4042-9a24-45e2-8231-364dc023bc26",
   "metadata": {
    "tags": []
   },
   "outputs": [],
   "source": [
    "opt.fit(scaled)"
   ]
  },
  {
   "cell_type": "code",
   "execution_count": null,
   "id": "6ea9718d-4e9f-4807-a159-f64fa0f383f4",
   "metadata": {},
   "outputs": [],
   "source": [
    "# visualizer = KElbowVisualizer(KMeans(n_clusters=4, random_state=0), colors='yellowbrick')\n",
    "# visualizer.fit(scaled)\n",
    "# visualizer.show()  "
   ]
  },
  {
   "cell_type": "code",
   "execution_count": null,
   "id": "9fbbaef9-71d3-46b9-b651-550e9f8b6a2d",
   "metadata": {},
   "outputs": [],
   "source": [
    "visualizer = SilhouetteVisualizer(KMeans(n_clusters=5, random_state=0), colors=[''])\n",
    "visualizer.fit(scaled)\n",
    "visualizer.show()   "
   ]
  },
  {
   "cell_type": "markdown",
   "id": "72b74ec6-9a2a-449b-a80e-f6c5dcdf9b34",
   "metadata": {},
   "source": [
    "### Hierarchical Clustering"
   ]
  },
  {
   "cell_type": "code",
   "execution_count": null,
   "id": "e2e88567-d9b4-49c1-b8f1-fe7ff6e837b1",
   "metadata": {},
   "outputs": [],
   "source": [
    "# Create Dendrogram\n",
    "\n",
    "def plot_dendrogram(model, **kwargs):\n",
    "    # Create linkage matrix and then plot the dendrogram\n",
    "\n",
    "    # create the counts of samples under each node\n",
    "    counts = np.zeros(model.children_.shape[0])\n",
    "    n_samples = len(model.labels_)\n",
    "    for i, merge in enumerate(model.children_):\n",
    "        current_count = 0\n",
    "        for child_idx in merge:\n",
    "            if child_idx < n_samples:\n",
    "                current_count += 1  # leaf node\n",
    "            else:\n",
    "                current_count += counts[child_idx - n_samples]\n",
    "        counts[i] = current_count\n",
    "\n",
    "    linkage_matrix = np.column_stack(\n",
    "        [model.children_, model.distances_, counts]\n",
    "    ).astype(float)\n",
    "\n",
    "    # Plot the corresponding dendrogram\n",
    "    dendrogram(linkage_matrix, **kwargs)\n",
    "\n",
    "\n",
    "# setting distance_threshold=0 ensures we compute the full tree.\n",
    "model = AgglomerativeClustering(distance_threshold=0, memory='./agglo_cache/', n_clusters=None,  \n",
    "                                linkage='ward')\n",
    "\n",
    "# take a sample from data\n",
    "sample = df_dum.sample(1000)\n",
    "# Normalize data\n",
    "scaler = MinMaxScaler()\n",
    "scaled_sampled = scaler.fit_transform(sample)\n",
    "model = model.fit(scaled_sampled)\n",
    "\n",
    "plt.title(\"Hierarchical Clustering Dendrogram\")\n",
    "# plot the top three levels of the dendrogram\n",
    "plot_dendrogram(model, truncate_mode=\"level\", p=100)\n",
    "plt.xlabel(\"Number of points in node (or index of point if no parenthesis).\")\n",
    "plt.show()"
   ]
  }
 ],
 "metadata": {
  "kernelspec": {
   "display_name": "Python 3 (ipykernel)",
   "language": "python",
   "name": "python3"
  },
  "language_info": {
   "codemirror_mode": {
    "name": "ipython",
    "version": 3
   },
   "file_extension": ".py",
   "mimetype": "text/x-python",
   "name": "python",
   "nbconvert_exporter": "python",
   "pygments_lexer": "ipython3",
   "version": "3.9.7"
  }
 },
 "nbformat": 4,
 "nbformat_minor": 5
}
