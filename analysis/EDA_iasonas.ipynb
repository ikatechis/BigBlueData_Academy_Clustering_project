{
 "cells": [
  {
   "cell_type": "code",
   "execution_count": null,
   "id": "d5e6b04c-8f46-48ba-b734-deb2f065e22b",
   "metadata": {},
   "outputs": [],
   "source": [
    "import pandas as pd\n",
    "import numpy as np\n",
    "import matplotlib.pyplot as plt\n",
    "import seaborn as sns\n",
    "import re"
   ]
  },
  {
   "cell_type": "code",
   "execution_count": null,
   "id": "fd4f85a5-4b5c-4770-b134-c1681e959002",
   "metadata": {},
   "outputs": [],
   "source": [
    "data = pd.read_csv('../data/data_clean.csv', index_col=0)"
   ]
  },
  {
   "cell_type": "code",
   "execution_count": null,
   "id": "d21c81d0-2c37-47ce-9106-7c34ec346e53",
   "metadata": {
    "jupyter": {
     "outputs_hidden": true
    },
    "tags": []
   },
   "outputs": [],
   "source": [
    "from pandas_profiling import ProfileReport\n",
    "prof = ProfileReport(data)\n",
    "prof.to_file(output_file='output.html')"
   ]
  },
  {
   "cell_type": "code",
   "execution_count": null,
   "id": "f3060668-8423-4e0c-8acc-ac8073a13a33",
   "metadata": {},
   "outputs": [],
   "source": [
    "(data.cover_price > 9).sum()"
   ]
  },
  {
   "cell_type": "code",
   "execution_count": null,
   "id": "26cadddf-1dc7-4f9d-815d-2eb3b7308878",
   "metadata": {},
   "outputs": [],
   "source": [
    "data[(data.pub_issues_total < 1000)].current_value.sum()"
   ]
  },
  {
   "cell_type": "code",
   "execution_count": null,
   "id": "51cd4d70-e905-45a4-ad99-8922e2a96248",
   "metadata": {},
   "outputs": [],
   "source": []
  }
 ],
 "metadata": {
  "kernelspec": {
   "display_name": "Python 3 (ipykernel)",
   "language": "python",
   "name": "python3"
  },
  "language_info": {
   "codemirror_mode": {
    "name": "ipython",
    "version": 3
   },
   "file_extension": ".py",
   "mimetype": "text/x-python",
   "name": "python",
   "nbconvert_exporter": "python",
   "pygments_lexer": "ipython3",
   "version": "3.9.7"
  }
 },
 "nbformat": 4,
 "nbformat_minor": 5
}
