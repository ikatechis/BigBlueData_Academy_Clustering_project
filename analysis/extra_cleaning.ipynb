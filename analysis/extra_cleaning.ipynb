{
 "cells": [
  {
   "cell_type": "code",
   "execution_count": null,
   "id": "554c58d5-765b-4096-8ae4-d1c9d2d285ff",
   "metadata": {},
   "outputs": [],
   "source": [
    "import pandas as pd"
   ]
  },
  {
   "cell_type": "code",
   "execution_count": null,
   "id": "faa54e40-07e7-4aad-a66e-607b1abba8b2",
   "metadata": {},
   "outputs": [],
   "source": [
    "df = pd.read_csv('../data/data_featurized.csv', index_col=0)"
   ]
  },
  {
   "cell_type": "code",
   "execution_count": null,
   "id": "d759489b-745e-4b70-9d8f-4da550f19c38",
   "metadata": {},
   "outputs": [],
   "source": [
    "df1 = df[df.value_over_price < 1000]\n",
    "\n",
    "# Make the special editions to boolean indexing indicating if it is a special edition or not i.e if the \n",
    "# edition is one of \"limited\", \"incentive\" or \"deluxe\" it will be 1 else 0\n",
    "df1.loc[:, 'special'] = df1.special.replace('not', 0)\n",
    "df1.loc[: , 'special'] = df1.special.where(df1.special == 0, 1)\n",
    "df1.loc[: , 'special'] = df1.special.astype(int)\n",
    "# Turn the columns for events into 1 column with 1 if there is a special event and 0 if not\n",
    "df1.loc[: , 'event'] = (df1.first_appear_event + df1.death_event + df1.origin_event).astype(bool).astype(int)\n",
    "df2 = df1.drop(['first_appear_event', 'death_event', 'origin_event'], axis=1)\n",
    "\n",
    "df2.loc[:,  'volume_type'] = df2.volume_type.replace(['fanzine', 'magazine', 'Prepack', \n",
    "                                                      'fcbd', 'four-color'], 'other')\n",
    "\n",
    "# one hοt encoding of volume_type, special\n",
    "df3 = df2.join(pd.get_dummies(df2['volume_type'], prefix='volume_type'))\n",
    "# drop unwanted columns\n",
    "df3 = df3.drop(columns=['volume_type'])\n",
    "\n",
    "df3.to_csv('../data/data_final.csv')"
   ]
  },
  {
   "cell_type": "code",
   "execution_count": null,
   "id": "a6d27d87-3f75-4843-b81f-bf284b0b8e57",
   "metadata": {},
   "outputs": [],
   "source": []
  }
 ],
 "metadata": {
  "kernelspec": {
   "display_name": "Python 3 (ipykernel)",
   "language": "python",
   "name": "python3"
  },
  "language_info": {
   "codemirror_mode": {
    "name": "ipython",
    "version": 3
   },
   "file_extension": ".py",
   "mimetype": "text/x-python",
   "name": "python",
   "nbconvert_exporter": "python",
   "pygments_lexer": "ipython3",
   "version": "3.9.7"
  }
 },
 "nbformat": 4,
 "nbformat_minor": 5
}
