{
 "cells": [
  {
   "cell_type": "code",
   "execution_count": null,
   "id": "72fcbf44-7f26-4c5c-b93e-6f6a992cf890",
   "metadata": {},
   "outputs": [],
   "source": [
    "import pandas as pd\n",
    "import numpy as np\n",
    "import matplotlib.pyplot as plt\n",
    "import seaborn as sns\n",
    "pd.options.mode.chained_assignment = None\n",
    "sns.set_theme()"
   ]
  },
  {
   "cell_type": "code",
   "execution_count": null,
   "id": "af30753f-563d-4b44-bb70-745ae310b16a",
   "metadata": {},
   "outputs": [],
   "source": [
    "pd.options.display.max_columns = 50\n",
    "pd.options.display.max_rows = 200"
   ]
  },
  {
   "cell_type": "code",
   "execution_count": null,
   "id": "831ce8e1-2e25-4f9c-a388-9ed494f55b1c",
   "metadata": {},
   "outputs": [],
   "source": [
    "data = pd.read_parquet('../data/all_data.parquet')"
   ]
  },
  {
   "cell_type": "code",
   "execution_count": null,
   "id": "e9eefea7-ce00-401c-a3fa-04d109ee8a25",
   "metadata": {},
   "outputs": [],
   "source": [
    "data.info(memory_usage='deep')"
   ]
  },
  {
   "cell_type": "code",
   "execution_count": null,
   "id": "074df533-8e65-4ffd-bc04-f070a237c92b",
   "metadata": {},
   "outputs": [],
   "source": [
    "titles = pd.read_csv('../data/titles_list_data.csv', low_memory=False, index_col=[0])"
   ]
  },
  {
   "cell_type": "code",
   "execution_count": null,
   "id": "61127103-a26c-4e8f-b8d5-e4c1fc6d8ffd",
   "metadata": {},
   "outputs": [],
   "source": [
    "titles.title.duplicated().value_counts()\n",
    "# there are identical titles so we have to connect them with a unique id for convenience"
   ]
  },
  {
   "cell_type": "code",
   "execution_count": null,
   "id": "45631a8b-c015-4d30-8ea0-fa90f87efae3",
   "metadata": {},
   "outputs": [],
   "source": [
    "data.issue_link[0]"
   ]
  },
  {
   "cell_type": "code",
   "execution_count": null,
   "id": "965059cf-942a-472b-aeb9-1e404e6ff0bc",
   "metadata": {},
   "outputs": [],
   "source": [
    "# extract titles' and issues' unique ids\n",
    "data['title_id'] = data.title_link.str.extract(pat=r'/series.(.+\\d)/\\d.+')\n",
    "data['issue_id'] = data.issue_link.str.extract(pat=r'/series/.+\\d/(.+\\d)/.+')"
   ]
  },
  {
   "cell_type": "code",
   "execution_count": null,
   "id": "9ab08792-635f-4e2d-b7a1-c14441d6b962",
   "metadata": {},
   "outputs": [],
   "source": [
    "# keep relevant columns\n",
    "df = data[['pub_name', 'title', 'title_id', 'issue', 'variant_of', 'cover_date', \n",
    "           'years', 'cover_price', 'current_value', 'searched', \n",
    "          'owned', 'volume', 'issues_total',\n",
    "           'pub_titles_total', 'pub_issues_total',\n",
    "           'contributors_names', 'contributors_roles', 'characters']]"
   ]
  },
  {
   "cell_type": "code",
   "execution_count": null,
   "id": "240ee1c1-e380-42bf-b4c0-a7103a226be3",
   "metadata": {},
   "outputs": [],
   "source": [
    "# turn prices into numerical\n",
    "df.loc[:, 'cover_price'] = df.loc[:, 'cover_price'].str.replace('[$,]', '', regex=True)\n",
    "df.loc[:, 'cover_price'] = df.loc[:, 'cover_price'].str.replace('Free', '0', regex=False)\n",
    "df.loc[:, 'cover_price'] = df.loc[:, 'cover_price'].apply(eval)"
   ]
  },
  {
   "cell_type": "code",
   "execution_count": null,
   "id": "af9f07e0-16aa-4290-9913-394d78f5fa00",
   "metadata": {},
   "outputs": [],
   "source": [
    "df.loc[:, 'current_value'] = df.loc[:, 'current_value'].str.replace('[$,]', '', regex=True)\n",
    "df.loc[:, 'current_value'] = df.loc[:, 'current_value'].str.replace('Free', '0', regex=False)\n",
    "df.loc[:, 'current_value'] = df.loc[:, 'current_value'].apply(eval)"
   ]
  },
  {
   "cell_type": "code",
   "execution_count": null,
   "id": "0f614f44-9af7-42e9-ad71-912c11815bc2",
   "metadata": {
    "tags": []
   },
   "outputs": [],
   "source": [
    "# Many issues with cover price 0 have high current value so we keep them\n",
    "df[df.cover_price == 0].sort_values('current_value', ascending=False).head(5)"
   ]
  },
  {
   "cell_type": "markdown",
   "id": "6b362899-5aa9-4f31-bd60-28f5cc5f04ce",
   "metadata": {},
   "source": [
    "### `issue` column\n",
    "\n",
    "There are several types of issues as indicated by their numbering and many strange numberings:\n",
    "\n",
    "* Simple ascending numbering # 1-...\n",
    "* 'Ashcan' Issues which are traditionally used to promote a new series (see [wiki](https://en.wikipedia.org/wiki/Ashcan_comic)). Ashcan comics can be quite rare and valuable, especially from the [Golden Age](https://en.wikipedia.org/wiki/Golden_Age_of_Comic_Books) (30s-50s)\n",
    "* Issues with `nn` meaning 'non-numbered'. Typically 0th issues or one-shots\n",
    "* Issues with numbering of the format: # (number)(variant-cover/ special ed./ convention ed. etc.): Normally these issues should be indicated as \"variant of\" (issue number) in the `variant_of` column\n",
    "* Of \"Vol ** # **\" format (where ** indicated a number). i.e. two enumerations are indicated, one for volume, one for issue number\n",
    "* Instead of issue number a date is given e.g. \"Spring 2007\" or simply \"1989\"\n",
    "* Numbering which includes letters e.g. \"C-2\" or \"x\"\n",
    "* Just the name of the protagonist or in general something explanatory e.g. \"Batwoman\"\n",
    "* The print run is indicated e.g. '# 2 - 2nd print'\n"
   ]
  },
  {
   "cell_type": "code",
   "execution_count": null,
   "id": "cdedc044-cc89-489e-b897-fc7a9c14e962",
   "metadata": {},
   "outputs": [],
   "source": [
    "df_original = df.copy()"
   ]
  },
  {
   "cell_type": "code",
   "execution_count": null,
   "id": "1817cf61-87c4-47e4-9a9a-ba45e4081606",
   "metadata": {},
   "outputs": [],
   "source": [
    "properdate = pd.read_csv('../data/proper_date.csv', low_memory=False)"
   ]
  },
  {
   "cell_type": "code",
   "execution_count": null,
   "id": "147413b9-03f0-4b56-b65c-4721fd6000fd",
   "metadata": {
    "tags": []
   },
   "outputs": [],
   "source": [
    "df['proper_date'] = properdate"
   ]
  },
  {
   "cell_type": "code",
   "execution_count": null,
   "id": "cd96c98c-09cc-402c-8b35-720e445a3c70",
   "metadata": {},
   "outputs": [],
   "source": [
    "df.dropna(subset=['proper_date'], inplace=True)"
   ]
  },
  {
   "cell_type": "code",
   "execution_count": null,
   "id": "b3763cae-93bf-4552-bfa2-deb67a3fd6a9",
   "metadata": {
    "tags": []
   },
   "outputs": [],
   "source": [
    "df['year'] = pd.to_datetime(df['proper_date']).dt.year.apply(int) \n",
    "df['month'] = pd.to_datetime(df['proper_date']).dt.month.apply(int) "
   ]
  },
  {
   "cell_type": "code",
   "execution_count": null,
   "id": "d9fd8d03-96df-4651-bbae-fef59046e49e",
   "metadata": {},
   "outputs": [],
   "source": [
    "# Global plot parameteres\n",
    "plt.rcParams['figure.figsize'] = 10,8\n",
    "sns.set(font_scale=1.5, style='dark')\n",
    "plt.style.use(\"dark_background\")"
   ]
  },
  {
   "cell_type": "code",
   "execution_count": null,
   "id": "e56d2f38-4b1d-44fb-8f99-3fb32c29846d",
   "metadata": {},
   "outputs": [],
   "source": [
    "df_to_plot = df.groupby('year').mean()['current_value']\n",
    "title='Average current value per year published'\n",
    "\n",
    "df_to_plot.plot()\n",
    "plt.title(title, size=20)\n",
    "\n",
    "save_loc = '../presentation/' + title + '.png'\n",
    "plt.savefig(save_loc, dpi=200, transparent=True)"
   ]
  },
  {
   "cell_type": "code",
   "execution_count": null,
   "id": "34e69984-c81e-4265-964c-cedd98242e6f",
   "metadata": {},
   "outputs": [],
   "source": [
    "df_to_plot = df.groupby('month').mean()['current_value']\n",
    "title = 'Average current value per month published'\n",
    "\n",
    "df_to_plot.plot()\n",
    "plt.title(title, size=20)\n",
    "plt.xticks(np.arange(1, 13, 1.0))\n",
    "plt.yticks(np.arange(0, 220, 10.0))\n",
    "\n",
    "save_loc = '../presentation/' + title + '.png'\n",
    "plt.savefig(save_loc, dpi=200, transparent=True)"
   ]
  },
  {
   "cell_type": "code",
   "execution_count": null,
   "id": "d787cc64-9d9b-4488-8751-9f4283d34d3c",
   "metadata": {},
   "outputs": [],
   "source": [
    "df_stats = pd.DataFrame(columns = ['Description', 'Value'])"
   ]
  },
  {
   "cell_type": "code",
   "execution_count": null,
   "id": "5306095e-6834-42ae-b0ae-15980a94ce0a",
   "metadata": {},
   "outputs": [],
   "source": [
    "Description = 'Number of issues'\n",
    "Value = len(df_original)\n",
    "df_stats = df_stats.append({'Description': Description, 'Value': Value}, ignore_index=True)"
   ]
  },
  {
   "cell_type": "code",
   "execution_count": null,
   "id": "d1418353-bce1-45d0-969a-ecf45ae43932",
   "metadata": {},
   "outputs": [],
   "source": [
    "Description = 'Number of titles'\n",
    "Value = len(df_original['title'].value_counts())\n",
    "df_stats = df_stats.append({'Description': Description, 'Value': Value}, ignore_index=True)"
   ]
  },
  {
   "cell_type": "code",
   "execution_count": null,
   "id": "8041789a-3a4e-48c8-8fa9-01be83d0deb2",
   "metadata": {},
   "outputs": [],
   "source": [
    "Description = 'Average issues per title'\n",
    "Value = len(df_original)/len(df_original['title'].value_counts())\n",
    "df_stats = df_stats.append({'Description': Description, 'Value': Value}, ignore_index=True)"
   ]
  },
  {
   "cell_type": "code",
   "execution_count": null,
   "id": "620bd3fb-16d1-4fbc-98aa-0926b872f761",
   "metadata": {},
   "outputs": [],
   "source": [
    "Description = 'Average current value (USD)'\n",
    "Value = df_original['current_value'].mean()\n",
    "df_stats = df_stats.append({'Description': Description, 'Value': Value}, ignore_index=True)"
   ]
  },
  {
   "cell_type": "code",
   "execution_count": null,
   "id": "fd9ad69f-d130-4952-8d5c-050a93430d5c",
   "metadata": {},
   "outputs": [],
   "source": [
    "Description = 'Average cover price (USD)'\n",
    "Value = df_original['cover_price'].mean()\n",
    "df_stats = df_stats.append({'Description': Description, 'Value': Value}, ignore_index=True)"
   ]
  },
  {
   "cell_type": "code",
   "execution_count": null,
   "id": "9e58c0d2-3682-4646-a5af-c35ce1696a88",
   "metadata": {},
   "outputs": [],
   "source": [
    "Description = 'Number of publishers'\n",
    "Value = len(df_original['pub_name'].value_counts())\n",
    "df_stats = df_stats.append({'Description': Description, 'Value': Value}, ignore_index=True)"
   ]
  },
  {
   "cell_type": "code",
   "execution_count": null,
   "id": "336dc88a-2669-40e6-a9bc-a769a9a10f7d",
   "metadata": {},
   "outputs": [],
   "source": [
    "Description = 'Average titles per publisher'\n",
    "Value = len(df_original['title'].value_counts())/len(df_original['pub_name'].value_counts())\n",
    "df_stats = df_stats.append({'Description': Description, 'Value': Value}, ignore_index=True)"
   ]
  },
  {
   "cell_type": "code",
   "execution_count": null,
   "id": "e3fc98a7-27f3-4b10-8105-111593f0db0a",
   "metadata": {},
   "outputs": [],
   "source": [
    "df_stats.to_excel(\"../presentation/stats.xlsx\")"
   ]
  },
  {
   "cell_type": "code",
   "execution_count": null,
   "id": "4ea0dae3-0922-4762-86c1-ec0de8158902",
   "metadata": {},
   "outputs": [],
   "source": [
    "df_stats"
   ]
  }
 ],
 "metadata": {
  "kernelspec": {
   "display_name": "Python 3 (ipykernel)",
   "language": "python",
   "name": "python3"
  },
  "language_info": {
   "codemirror_mode": {
    "name": "ipython",
    "version": 3
   },
   "file_extension": ".py",
   "mimetype": "text/x-python",
   "name": "python",
   "nbconvert_exporter": "python",
   "pygments_lexer": "ipython3",
   "version": "3.9.7"
  }
 },
 "nbformat": 4,
 "nbformat_minor": 5
}
