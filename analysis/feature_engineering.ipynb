{
 "cells": [
  {
   "cell_type": "code",
   "execution_count": null,
   "id": "f964681b-00f9-4cb1-871d-2ea36620a259",
   "metadata": {},
   "outputs": [],
   "source": [
    "import pandas as pd\n",
    "import numpy as np\n",
    "import matplotlib.pyplot as plt\n",
    "import seaborn as sns\n",
    "\n",
    "from sklearn.preprocessing import StandardScaler\n",
    "from sklearn.cluster import AgglomerativeClustering\n",
    "from sklearn.cluster import KMeans\n",
    "from sklearn.metrics import  silhouette_score\n",
    "from sklearn import datasets\n",
    "from scipy.cluster.hierarchy import dendrogram, linkage\n",
    "from yellowbrick.cluster import SilhouetteVisualizer\n",
    "from yellowbrick.cluster import KElbowVisualizer\n",
    "import datetime\n",
    "%load_ext autotime"
   ]
  },
  {
   "cell_type": "code",
   "execution_count": null,
   "id": "34dd80a5-5886-4f0c-8251-0c8e40f31bba",
   "metadata": {},
   "outputs": [],
   "source": [
    "pd.options.mode.chained_assignment = None\n",
    "pd.options.display.max_columns = 50\n",
    "pd.options.display.max_rows = 200"
   ]
  },
  {
   "cell_type": "code",
   "execution_count": null,
   "id": "831ce8e1-2e25-4f9c-a388-9ed494f55b1c",
   "metadata": {},
   "outputs": [],
   "source": [
    "data = pd.read_parquet('../data/all_data.parquet')\n",
    "df = pd.read_csv('../data/data_clean.csv', index_col=[0])"
   ]
  },
  {
   "cell_type": "code",
   "execution_count": null,
   "id": "0648bf4d-cff6-49a6-a3c2-f8347141d262",
   "metadata": {},
   "outputs": [],
   "source": [
    "# data.info()"
   ]
  },
  {
   "cell_type": "code",
   "execution_count": null,
   "id": "b99a1ffc-1d3e-4b78-af2f-3f8588a19cfe",
   "metadata": {},
   "outputs": [],
   "source": [
    "# get the proper date info\n",
    "proper_date = pd.read_csv('../data/proper_date.csv')\n",
    "data['date'] = proper_date.proper_date.values"
   ]
  },
  {
   "cell_type": "code",
   "execution_count": null,
   "id": "12df4965-e20f-4470-bd4e-8dbe6526363a",
   "metadata": {},
   "outputs": [],
   "source": [
    "# extract titles' and issues' unique ids\n",
    "data['title_id'] = data.copy().title_link.str.extract(pat=r'/series.(\\d+)/\\d.+')\n",
    "data['issue_id'] = data.copy().issue_link.str.extract(pat=r'/series/\\d+/(\\d+)/.+')\n",
    "# keep relevant columns\n",
    "data = data[['pub_name', 'title', 'title_id', 'variant_of', 'volume', 'cover_date', \n",
    "           'years', 'date', 'cover_price', 'current_value', 'searched', \n",
    "           'owned', 'issues_total', 'pub_titles_total', 'pub_issues_total',\n",
    "           'contributors_names', 'contributors_roles', 'characters', 'synopsis']]"
   ]
  },
  {
   "cell_type": "code",
   "execution_count": null,
   "id": "80ae56e9-49d9-4cad-9f08-cdbc4781ea25",
   "metadata": {
    "tags": []
   },
   "outputs": [],
   "source": [
    "# true/false cols to 1/0\n",
    "df['variant'] = df['variant'].apply(int)\n",
    "df['first_appear_event'] = df['first_appear_event'].apply(int)\n",
    "df['death_event'] = df['death_event'].apply(int)\n",
    "df['origin_event'] = df['origin_event'].apply(int)\n",
    "# create months_ago column\n",
    "# df['months_ago'] = df['date'].apply(lambda x: (2022-int(x[:4]))*12+(1-int(x[5:7])))\n",
    "df['date'] = pd.to_datetime(df.date)\n",
    "months = (datetime.datetime.now() - df.date)/np.timedelta64(1, 'M')\n",
    "df['months_ago'] = months\n",
    "# create volume_type\n",
    "df['volume_type'] = df['volume'][df['volume']>'9']\n",
    "df['volume_type'] = df['volume_type'].fillna('ongoing')\n",
    "# set '0' to string 'volume'\n",
    "df['volume'][df['volume']>'9'] = '0'\n",
    "df['volume'] = df['volume'].apply(int)"
   ]
  },
  {
   "cell_type": "code",
   "execution_count": null,
   "id": "95db4225-04be-430b-93f1-122ef3522ce0",
   "metadata": {},
   "outputs": [],
   "source": [
    "# drop all comics with date before 1936\n",
    "df = df[(df.date.dt.year > 1935) & (df.date.dt.year < 2022)]\n",
    "# drop all tpb, hc and gn type comics. Due to missing data for these types we will also filter by price\n",
    "df = df[df.cover_price <= 9]\n",
    "df = df[~df.volume_type.isin(['TPB/SC', 'HC', 'GN'])]\n"
   ]
  },
  {
   "cell_type": "code",
   "execution_count": null,
   "id": "f609b1d5-89f6-4887-b023-352b91b3311b",
   "metadata": {},
   "outputs": [],
   "source": [
    "# Fill 0 cover_price with the average from the same year\n",
    "df['year'] = df.date.dt.year\n",
    "avrg_cp = dict(df[df.cover_price != 0].groupby('year')['cover_price'].mean())\n",
    "df['cover_price'] = df.cover_price.where(df.cover_price > 0, df.year.map(avrg_cp), axis=0)"
   ]
  },
  {
   "cell_type": "code",
   "execution_count": null,
   "id": "5c25fbf9-362e-490c-b81f-ab19386728c3",
   "metadata": {
    "tags": []
   },
   "outputs": [],
   "source": [
    "# get issues_total column from the counts f dataset\n",
    "issue_counts = dict(df.groupby('title_id')['months_ago'].count())\n",
    "df['issues_total'] = df.issues_total.where((df.issues_total != 0), df.title_id.map(issue_counts))\n",
    "df['issues_total'] = df.issues_total.fillna(df.title_id.map(issue_counts))"
   ]
  },
  {
   "cell_type": "code",
   "execution_count": null,
   "id": "c4838b34-51d0-4438-9352-69b381b9e941",
   "metadata": {},
   "outputs": [],
   "source": [
    "# put wherever current_value = 0 the cover_price\n",
    "df['current_value'] = df.current_value.where(df.current_value != 0, df.cover_price)"
   ]
  },
  {
   "cell_type": "code",
   "execution_count": null,
   "id": "410dcdc2-cefd-4dbe-8e85-b2db038177a3",
   "metadata": {},
   "outputs": [],
   "source": [
    "# make column with the ration of current_value/ cover_price\n",
    "df['value_over_price'] = df.current_value/ df.cover_price"
   ]
  },
  {
   "cell_type": "code",
   "execution_count": null,
   "id": "8e29960f-f898-4822-8d0d-a51dbe143ebb",
   "metadata": {},
   "outputs": [],
   "source": [
    "df.info()"
   ]
  },
  {
   "cell_type": "code",
   "execution_count": null,
   "id": "9468e5a6-eeef-48b0-b933-46758b3818b0",
   "metadata": {},
   "outputs": [],
   "source": [
    "# pub issues / titles\n",
    "df['pub_issues_over_titles'] = df.pub_issues_total / df.pub_titles_total"
   ]
  },
  {
   "cell_type": "code",
   "execution_count": null,
   "id": "c75fe148-7310-4bb0-8b7b-9a903735de93",
   "metadata": {},
   "outputs": [],
   "source": [
    "df.info()"
   ]
  },
  {
   "cell_type": "code",
   "execution_count": null,
   "id": "98512c2e-dbcd-4ea0-a56b-40179e3c3796",
   "metadata": {},
   "outputs": [],
   "source": [
    "df1 = df.copy()\n",
    "df1 = df1[['issue_nr', 'variant', 'volume', 'volume_type', 'print_nr', 'months_ago', 'value_over_price',\n",
    "          'special', 'searched', 'owned', 'first_appear_event', 'death_event', 'origin_event', 'issues_total', \n",
    "          'pub_issues_total', 'pub_issues_over_titles']]"
   ]
  },
  {
   "cell_type": "code",
   "execution_count": null,
   "id": "fcf362c8-4280-4846-8362-91bd49ab5ed4",
   "metadata": {},
   "outputs": [],
   "source": [
    "df1"
   ]
  },
  {
   "cell_type": "code",
   "execution_count": null,
   "id": "5d4715b7-01cf-4206-8a0e-d9205ab69a5f",
   "metadata": {},
   "outputs": [],
   "source": [
    "df1.to_csv('../data/data_featurized.csv')"
   ]
  },
  {
   "cell_type": "code",
   "execution_count": null,
   "id": "c6c46d31-f706-4dff-aaaf-7c4084e035c2",
   "metadata": {},
   "outputs": [],
   "source": [
    "# one hοt encoding of volume_type, special\n",
    "df_dum = df1.join(pd.get_dummies(df['volume_type'], prefix='volume_type'))\n",
    "df_dum = df_dum.join(pd.get_dummies(df['special'], prefix='special'))\n",
    "# drop unwanted columns\n",
    "df_dum = df_dum.drop(columns=['volume_type', 'special'])"
   ]
  },
  {
   "cell_type": "code",
   "execution_count": null,
   "id": "0666aea4-674c-4778-aec4-51dd763653f5",
   "metadata": {},
   "outputs": [],
   "source": [
    "df1.dropna(inplace=True)"
   ]
  },
  {
   "cell_type": "code",
   "execution_count": null,
   "id": "e7397829-e508-4e29-8fb4-9552858dce5b",
   "metadata": {},
   "outputs": [],
   "source": [
    "# from pandas_profiling import ProfileReport\n",
    "# prof = ProfileReport(df1)\n",
    "# prof.to_file(output_file='output.html')"
   ]
  },
  {
   "cell_type": "code",
   "execution_count": null,
   "id": "08e11b88-0a18-40fc-b64c-6f652140a04d",
   "metadata": {},
   "outputs": [],
   "source": []
  },
  {
   "cell_type": "code",
   "execution_count": null,
   "id": "60edd55b-7b26-4462-8cf0-91b6d4bdd7a1",
   "metadata": {},
   "outputs": [],
   "source": []
  },
  {
   "cell_type": "code",
   "execution_count": null,
   "id": "df4205b1-dcfa-4529-9c60-4c0b94d75c67",
   "metadata": {},
   "outputs": [],
   "source": []
  },
  {
   "cell_type": "code",
   "execution_count": null,
   "id": "ffbbb429-4efb-4d12-8d54-5cad54f81a9c",
   "metadata": {},
   "outputs": [],
   "source": [
    "(df1.cover_price > 9).sum()"
   ]
  },
  {
   "cell_type": "code",
   "execution_count": null,
   "id": "6a9997ea-8597-4cbf-a71f-6fd4cfb7441c",
   "metadata": {},
   "outputs": [],
   "source": [
    "df1[(df1.cover_price > 9)].current_value.sum()"
   ]
  },
  {
   "cell_type": "code",
   "execution_count": null,
   "id": "a7a8efac-0f89-4da9-b9c2-6e21fdc6ff19",
   "metadata": {},
   "outputs": [],
   "source": []
  },
  {
   "cell_type": "code",
   "execution_count": null,
   "id": "5cc6c213-4357-4486-b9b9-1b1cb4c7578b",
   "metadata": {},
   "outputs": [],
   "source": []
  },
  {
   "cell_type": "code",
   "execution_count": null,
   "id": "4c923b98-98f8-4e46-8c37-21b1ad89813a",
   "metadata": {},
   "outputs": [],
   "source": []
  },
  {
   "cell_type": "code",
   "execution_count": null,
   "id": "3145405a-daa1-4300-9c16-90ef0892ba79",
   "metadata": {},
   "outputs": [],
   "source": [
    "df_sample = df_num.sample(10000)"
   ]
  },
  {
   "cell_type": "code",
   "execution_count": null,
   "id": "ab31bc41-406a-4970-a8bc-079cc89f3ebb",
   "metadata": {},
   "outputs": [],
   "source": [
    "# create X scaled\n",
    "ss = StandardScaler()\n",
    "ss.fit(df_sample)\n",
    "X = ss.transform(df_sample)"
   ]
  },
  {
   "cell_type": "code",
   "execution_count": null,
   "id": "c175889e-b687-45e0-a8a1-6ce4ca92f8bf",
   "metadata": {},
   "outputs": [],
   "source": [
    "model_kmeans = KMeans(n_clusters=3, random_state=0).fit(X)"
   ]
  },
  {
   "cell_type": "code",
   "execution_count": null,
   "id": "b4ae5767-1e28-4904-8d7a-0ba4e4bd2575",
   "metadata": {
    "tags": []
   },
   "outputs": [],
   "source": [
    "silhouette_score(X, model_kmeans.labels_)"
   ]
  },
  {
   "cell_type": "code",
   "execution_count": null,
   "id": "1a7c3750-2ffa-4874-bab3-c8e125ac3e10",
   "metadata": {
    "tags": []
   },
   "outputs": [],
   "source": [
    "visualizer = SilhouetteVisualizer(model_kmeans, colors='yellowbrick')\n",
    "visualizer.fit(X)\n",
    "visualizer.poof()"
   ]
  },
  {
   "cell_type": "code",
   "execution_count": null,
   "id": "4066befa-b882-497f-88f1-bc30598d21b6",
   "metadata": {},
   "outputs": [],
   "source": [
    "visualizer = KElbowVisualizer(model_kmeans, k=(2,10))\n",
    "visualizer.fit(X)\n",
    "visualizer.show()"
   ]
  },
  {
   "cell_type": "code",
   "execution_count": null,
   "id": "d8141a24-8492-4a74-9070-b809dd2f70b1",
   "metadata": {},
   "outputs": [],
   "source": []
  }
 ],
 "metadata": {
  "kernelspec": {
   "display_name": "Python 3 (ipykernel)",
   "language": "python",
   "name": "python3"
  },
  "language_info": {
   "codemirror_mode": {
    "name": "ipython",
    "version": 3
   },
   "file_extension": ".py",
   "mimetype": "text/x-python",
   "name": "python",
   "nbconvert_exporter": "python",
   "pygments_lexer": "ipython3",
   "version": "3.9.7"
  }
 },
 "nbformat": 4,
 "nbformat_minor": 5
}
